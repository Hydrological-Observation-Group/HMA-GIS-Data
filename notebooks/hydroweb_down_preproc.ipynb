{
 "cells": [
  {
   "cell_type": "code",
   "execution_count": 73,
   "metadata": {},
   "outputs": [],
   "source": [
    "import os\n",
    "import config\n",
    "import zipfile\n",
    "import shutil\n",
    "import py_hydroweb\n",
    "from glob import glob\n",
    "import geopandas as gpd\n"
   ]
  },
  {
   "cell_type": "code",
   "execution_count": 36,
   "metadata": {},
   "outputs": [],
   "source": [
    "dir_down = \"data/altimetry-water-level/hydroweb\"\n",
    "file_name = 'hydroweb_lakes.zip'\n",
    "region = [66, 26, 106, 45]    ### left, bottom, right, top\n"
   ]
  },
  {
   "cell_type": "code",
   "execution_count": null,
   "metadata": {},
   "outputs": [
    {
     "name": "stderr",
     "output_type": "stream",
     "text": [
      "Wait: 100%|██████████| 100/100 [00:02<00:00, 35.59it/s]\n",
      "hydroweb_lakes.zip: 100%|██████████| 361k/361k [00:02<00:00, 156kB/s]\n"
     ]
    },
    {
     "data": {
      "text/plain": [
       "'data/altimetry-water-level/hydroweb/hydroweb_lakes.zip'"
      ]
     },
     "execution_count": 10,
     "metadata": {},
     "output_type": "execute_result"
    }
   ],
   "source": [
    "### download data\n",
    "client = py_hydroweb.Client(\"https://hydroweb.next.theia-land.fr/api\", config.hydroweb_key)  \n",
    "basket = py_hydroweb.DownloadBasket(\"my_download_basket\")\n",
    "basket.add_collection(\"HYDROWEB_LAKES_OPE\", bbox=region)  ## left, bottom, right, top\n",
    "client.submit_and_download_zip(basket, zip_filename=file_name, output_folder = dir_down)\n"
   ]
  },
  {
   "cell_type": "code",
   "execution_count": 80,
   "metadata": {},
   "outputs": [],
   "source": [
    "### unzip the download data\n",
    "dest_dir = dir_down+'/hydroweb_lakes'\n",
    "source_dir = dest_dir+'/HYDROWEB_LAKES_OPE/HYDROWEB_LAKES_OPE'\n",
    "if not os.path.exists(dest_dir): \n",
    "    os.makedirs(dest_dir, exist_ok=True)\n",
    "with zipfile.ZipFile(dir_down+'/'+file_name, 'r') as zip_ref:\n",
    "    zip_ref.extractall(dest_dir)\n",
    "for txt_name in os.listdir(source_dir):\n",
    "    if txt_name.endswith('.txt'):\n",
    "        shutil.move(os.path.join(source_dir, txt_name), os.path.join(dest_dir, txt_name))\n",
    "shutil.rmtree(dest_dir+'/HYDROWEB_LAKES_OPE')\n"
   ]
  },
  {
   "cell_type": "markdown",
   "metadata": {},
   "source": [
    "#### Preprocessing\n",
    "Write the dahiti information into geopandas dataframe."
   ]
  },
  {
   "cell_type": "code",
   "execution_count": 83,
   "metadata": {},
   "outputs": [],
   "source": [
    "from shapely.geometry import Point\n",
    "lake_id, lake_name, lake_contry, lake_basin, lake_lat, lake_lon = [], [], [], [], [], []\n",
    "for path_file in paths_file:\n",
    "    with open(path_file, 'r') as f:\n",
    "        content = f.read()\n",
    "        # Extract lake information\n",
    "        lake_info = {}\n",
    "        line_first = content.split('\\n')[0]\n",
    "        parts = line_first.split(';')\n",
    "        lake_id.append(parts[10].split('=')[1].strip())\n",
    "        lake_name.append(parts[0].split('=')[1])\n",
    "        lake_contry.append(parts[1].split('=')[1])\n",
    "        lake_basin.append(parts[2].split('=')[1])\n",
    "        lake_lat.append(float(parts[3].split('=')[1]))  \n",
    "        lake_lon.append(float(parts[4].split('=')[1]))\n",
    "\n",
    "\n",
    "lake_info = {'id': lake_id, 'name': lake_name, 'contry': lake_contry, 'basin': lake_basin}\n",
    "geo = [Point(lon, lat) for lon, lat in zip(lake_lon, lake_lat) ]"
   ]
  },
  {
   "cell_type": "code",
   "execution_count": null,
   "metadata": {},
   "outputs": [],
   "source": [
    "lake_hydroweb_gdf = gpd.GeoDataFrame(lake_info, geometry=geo)\n",
    "lake_hydroweb_gdf.head(2)\n",
    "# lake_hydroweb_gdf.to_file(dir_down+'/hydroweb_lakes/hydroweb_hma.gpkg', driver='GPKG') \n"
   ]
  },
  {
   "cell_type": "code",
   "execution_count": null,
   "metadata": {},
   "outputs": [],
   "source": [
    "\n",
    "\n"
   ]
  }
 ],
 "metadata": {
  "kernelspec": {
   "display_name": "venv",
   "language": "python",
   "name": "python3"
  },
  "language_info": {
   "codemirror_mode": {
    "name": "ipython",
    "version": 3
   },
   "file_extension": ".py",
   "mimetype": "text/x-python",
   "name": "python",
   "nbconvert_exporter": "python",
   "pygments_lexer": "ipython3",
   "version": "3.10.14"
  }
 },
 "nbformat": 4,
 "nbformat_minor": 2
}
