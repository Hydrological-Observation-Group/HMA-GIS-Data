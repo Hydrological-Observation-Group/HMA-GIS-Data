{
 "cells": [
  {
   "cell_type": "code",
   "execution_count": 7,
   "metadata": {},
   "outputs": [],
   "source": [
    "import os\n",
    "import config\n",
    "import zipfile\n",
    "import shutil\n",
    "import py_hydroweb\n",
    "from glob import glob\n",
    "import geopandas as gpd\n",
    "from shapely.geometry import Point\n"
   ]
  },
  {
   "cell_type": "code",
   "execution_count": 2,
   "metadata": {},
   "outputs": [],
   "source": [
    "dir_down = \"data/altimetry-water-level/hydroweb\"\n",
    "file_name = 'hydroweb_lakes.zip'\n",
    "region = [66, 26, 106, 45]    ### left, bottom, right, top\n"
   ]
  },
  {
   "cell_type": "markdown",
   "metadata": {},
   "source": [
    "#### download"
   ]
  },
  {
   "cell_type": "code",
   "execution_count": 3,
   "metadata": {},
   "outputs": [],
   "source": [
    "### download data\n",
    "# client = py_hydroweb.Client(\"https://hydroweb.next.theia-land.fr/api\", config.hydroweb_key)  \n",
    "# basket = py_hydroweb.DownloadBasket(\"my_download_basket\")\n",
    "# basket.add_collection(\"HYDROWEB_LAKES_OPE\", bbox=region)  ## left, bottom, right, top\n",
    "# client.submit_and_download_zip(basket, zip_filename=file_name, output_folder = dir_down)\n"
   ]
  },
  {
   "cell_type": "code",
   "execution_count": 4,
   "metadata": {},
   "outputs": [],
   "source": [
    "### unzip the download data\n",
    "dest_dir = dir_down+'/hydroweb_lakes'\n",
    "source_dir = dest_dir+'/HYDROWEB_LAKES_OPE/HYDROWEB_LAKES_OPE'\n",
    "if not os.path.exists(dest_dir): \n",
    "    os.makedirs(dest_dir, exist_ok=True)\n",
    "with zipfile.ZipFile(dir_down+'/'+file_name, 'r') as zip_ref:\n",
    "    zip_ref.extractall(dest_dir)\n",
    "for txt_name in os.listdir(source_dir):\n",
    "    if txt_name.endswith('.txt'):\n",
    "        shutil.move(os.path.join(source_dir, txt_name), os.path.join(dest_dir, txt_name))\n",
    "shutil.rmtree(dest_dir+'/HYDROWEB_LAKES_OPE')\n"
   ]
  },
  {
   "cell_type": "markdown",
   "metadata": {},
   "source": [
    "#### Preprocessing\n",
    "Write the dahiti information into geopandas dataframe."
   ]
  },
  {
   "cell_type": "code",
   "execution_count": 8,
   "metadata": {},
   "outputs": [],
   "source": [
    "lake_id, lake_name, lake_contry, lake_basin, lake_lat, lake_lon = [], [], [], [], [], []\n",
    "paths_file = glob(dest_dir+'/*.txt')\n",
    "for path_file in paths_file:\n",
    "    with open(path_file, 'r') as f:\n",
    "        content = f.read()\n",
    "        # Extract lake information\n",
    "        lake_info = {}\n",
    "        line_first = content.split('\\n')[0]\n",
    "        parts = line_first.split(';')\n",
    "        lake_id.append(parts[10].split('=')[1].strip())\n",
    "        lake_name.append(parts[0].split('=')[1])\n",
    "        lake_contry.append(parts[1].split('=')[1])\n",
    "        lake_basin.append(parts[2].split('=')[1])\n",
    "        lake_lat.append(float(parts[3].split('=')[1]))  \n",
    "        lake_lon.append(float(parts[4].split('=')[1]))\n",
    "\n",
    "lake_info = {'id': lake_id, 'name': lake_name, 'contry': lake_contry, 'basin': lake_basin}\n",
    "geo = [Point(lon, lat) for lon, lat in zip(lake_lon, lake_lat) ]"
   ]
  },
  {
   "cell_type": "code",
   "execution_count": 9,
   "metadata": {},
   "outputs": [
    {
     "data": {
      "text/html": [
       "<div>\n",
       "<style scoped>\n",
       "    .dataframe tbody tr th:only-of-type {\n",
       "        vertical-align: middle;\n",
       "    }\n",
       "\n",
       "    .dataframe tbody tr th {\n",
       "        vertical-align: top;\n",
       "    }\n",
       "\n",
       "    .dataframe thead th {\n",
       "        text-align: right;\n",
       "    }\n",
       "</style>\n",
       "<table border=\"1\" class=\"dataframe\">\n",
       "  <thead>\n",
       "    <tr style=\"text-align: right;\">\n",
       "      <th></th>\n",
       "      <th>id</th>\n",
       "      <th>name</th>\n",
       "      <th>contry</th>\n",
       "      <th>basin</th>\n",
       "      <th>geometry</th>\n",
       "    </tr>\n",
       "  </thead>\n",
       "  <tbody>\n",
       "    <tr>\n",
       "      <th>0</th>\n",
       "      <td>1300000001366</td>\n",
       "      <td>lixiodain-co</td>\n",
       "      <td>China</td>\n",
       "      <td>Mongolian</td>\n",
       "      <td>POINT (90.20000 35.75000)</td>\n",
       "    </tr>\n",
       "    <tr>\n",
       "      <th>1</th>\n",
       "      <td>1300000001336</td>\n",
       "      <td>hala</td>\n",
       "      <td>China</td>\n",
       "      <td>Mongolian</td>\n",
       "      <td>POINT (97.60000 38.30000)</td>\n",
       "    </tr>\n",
       "  </tbody>\n",
       "</table>\n",
       "</div>"
      ],
      "text/plain": [
       "              id          name contry      basin                   geometry\n",
       "0  1300000001366  lixiodain-co  China  Mongolian  POINT (90.20000 35.75000)\n",
       "1  1300000001336          hala  China  Mongolian  POINT (97.60000 38.30000)"
      ]
     },
     "execution_count": 9,
     "metadata": {},
     "output_type": "execute_result"
    }
   ],
   "source": [
    "lake_hydroweb_gdf = gpd.GeoDataFrame(lake_info, geometry=geo)\n",
    "lake_hydroweb_gdf.head(2)\n",
    "# lake_hydroweb_gdf.to_file(dir_down+'/hydroweb_lakes/hydroweb_hma.gpkg', driver='GPKG') \n"
   ]
  },
  {
   "cell_type": "code",
   "execution_count": null,
   "metadata": {},
   "outputs": [],
   "source": [
    "\n",
    "\n"
   ]
  }
 ],
 "metadata": {
  "kernelspec": {
   "display_name": "venv",
   "language": "python",
   "name": "python3"
  },
  "language_info": {
   "codemirror_mode": {
    "name": "ipython",
    "version": 3
   },
   "file_extension": ".py",
   "mimetype": "text/x-python",
   "name": "python",
   "nbconvert_exporter": "python",
   "pygments_lexer": "ipython3",
   "version": "3.10.14"
  }
 },
 "nbformat": 4,
 "nbformat_minor": 2
}
