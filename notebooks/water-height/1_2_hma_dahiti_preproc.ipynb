{
 "cells": [
  {
   "cell_type": "code",
   "execution_count": 20,
   "metadata": {},
   "outputs": [],
   "source": [
    "# import os\n",
    "# import json\n",
    "# import pprint\n",
    "# import requests\n",
    "# # import config \n"
   ]
  },
  {
   "cell_type": "markdown",
   "metadata": {},
   "source": [
    "#### download"
   ]
  },
  {
   "cell_type": "code",
   "execution_count": 21,
   "metadata": {},
   "outputs": [],
   "source": [
    "# ''' Download path were all water level time series will be stored '''\n",
    "# dir_download = 'data/altimetry-water-level/dahiti'\n",
    "# if not os.path.isdir(dir_download):\n",
    "# \tos.mkdir(dir_download)\n",
    "\n",
    "# API_KEY = config.dahiti_key\n",
    "# OUTPUT_FORMAT = 'netcdf' ## Option: ascci, json, netcdf, csv \n",
    "\n",
    "# url = 'https://dahiti.dgfi.tum.de/api/v2/list-targets/'\n",
    "# args = {}\n",
    "# ''' User configuration '''\n",
    "# args['api_key'] = API_KEY\n",
    "# ''' Search options '''\n",
    "# # args['basin'] = 'Amazon'\n",
    "# # args['continent'] = 'Asia'\n",
    "# #args['country'] = 'de'\n",
    "# args['min_lon'], args['max_lon'] = 100, 106   #### 66-106\n",
    "# args['min_lat'], args['max_lat'] = 26, 45    #### 26-45\n"
   ]
  },
  {
   "cell_type": "code",
   "execution_count": 22,
   "metadata": {},
   "outputs": [],
   "source": [
    "# ''' send request as method POST '''\n",
    "# response = requests.post(url, data=args)\n",
    "# if response.status_code == 200:\n",
    "# \t''' convert json string in python list '''\n",
    "# \ttargets = json.loads(response.text)['data']\n",
    "# \tprint ('Dataset(s) found:',len(targets))\t\t\n",
    "# \tfor target in targets:\n",
    "# \t\t# print (target)\t\t\n",
    "# \t\tpath_target_file = dir_download + '/' + str(target['dahiti_id']) + '.nc'\n",
    "# \t\tif os.path.exists(path_target_file):\n",
    "# \t\t\tprint(f\"File {target['dahiti_id']} already exists. Skipping download.\")\n",
    "# \t\t\tcontinue\n",
    "\n",
    "# \t\t''' download water level time series '''\n",
    "# \t\turl = 'https://dahiti.dgfi.tum.de/api/v2/download-water-level/'\n",
    "# \t\targs = {}\n",
    "# \t\targs['api_key'] = API_KEY\n",
    "# \t\targs['dahiti_id'] = target['dahiti_id']\n",
    "# \t\targs['format'] = OUTPUT_FORMAT\t\t\n",
    "# \t\tpath_output = os.path.abspath(dir_download+'/'+str(target['dahiti_id'])+'.nc')\n",
    "# \t\tprint ('Downloading ... ',target['dahiti_id'],'->',target['target_name'].encode(\"utf8\"),'('+path_output+')')\t\t\n",
    "# \t\tresponse_download = requests.post(url, json=args)\n",
    "# \t\tif response_download.status_code == 200:\n",
    "# \t\t\twith open(path_output, 'wb') as f:\n",
    "# \t\t\t\tfor chunk in response_download.iter_content(chunk_size=1024): \n",
    "# \t\t\t\t\tif chunk:\n",
    "# \t\t\t\t\t\tf.write(chunk)\n",
    "# \t\telse:\n",
    "# \t\t\tprint ('Error: `download-water-level` request failed!')\n",
    "# \t\t\tdata = json.loads(response_download.text)\n",
    "# \t\t\tpprint.pprint(data)\n",
    "# \t\t\t# sys.exit(0)\n",
    "# else:\n",
    "# \tprint ('Error: `list-targets` request failed!')\n",
    "# \tdata = json.loads(response.text)\n",
    "# \tpprint.pprint(data)\n",
    "\n"
   ]
  },
  {
   "cell_type": "markdown",
   "metadata": {},
   "source": [
    "#### Preprocessing\n",
    "Write the dahiti information into geopandas dataframe."
   ]
  },
  {
   "cell_type": "code",
   "execution_count": 23,
   "metadata": {},
   "outputs": [],
   "source": [
    "import netCDF4 as nc\n",
    "from glob import glob\n",
    "from shapely.geometry import Point\n",
    "import geopandas as gpd\n",
    "import matplotlib.pyplot as plt\n",
    "import cartopy.crs as ccrs\n",
    "\n"
   ]
  },
  {
   "cell_type": "code",
   "execution_count": 24,
   "metadata": {},
   "outputs": [
    {
     "name": "stdout",
     "output_type": "stream",
     "text": [
      "411\n"
     ]
    }
   ],
   "source": [
    "dir_paths = 'data/water-height/dahiti'\n",
    "path_lake = 'data/water-extent/lakes/HydroLakes_v10_hma_region.gpkg'\n",
    "paths = glob(dir_paths+'/*.nc')\n",
    "print(len(paths))\n"
   ]
  },
  {
   "cell_type": "code",
   "execution_count": 25,
   "metadata": {},
   "outputs": [
    {
     "data": {
      "text/html": [
       "<div>\n",
       "<style scoped>\n",
       "    .dataframe tbody tr th:only-of-type {\n",
       "        vertical-align: middle;\n",
       "    }\n",
       "\n",
       "    .dataframe tbody tr th {\n",
       "        vertical-align: top;\n",
       "    }\n",
       "\n",
       "    .dataframe thead th {\n",
       "        text-align: right;\n",
       "    }\n",
       "</style>\n",
       "<table border=\"1\" class=\"dataframe\">\n",
       "  <thead>\n",
       "    <tr style=\"text-align: right;\">\n",
       "      <th></th>\n",
       "      <th>Hylak_id</th>\n",
       "      <th>Lake_name</th>\n",
       "      <th>Country</th>\n",
       "      <th>Continent</th>\n",
       "      <th>Poly_src</th>\n",
       "      <th>Lake_type</th>\n",
       "      <th>Grand_id</th>\n",
       "      <th>Lake_area</th>\n",
       "      <th>Shore_len</th>\n",
       "      <th>Shore_dev</th>\n",
       "      <th>...</th>\n",
       "      <th>Vol_src</th>\n",
       "      <th>Depth_avg</th>\n",
       "      <th>Dis_avg</th>\n",
       "      <th>Res_time</th>\n",
       "      <th>Elevation</th>\n",
       "      <th>Slope_100</th>\n",
       "      <th>Wshd_area</th>\n",
       "      <th>Pour_long</th>\n",
       "      <th>Pour_lat</th>\n",
       "      <th>geometry</th>\n",
       "    </tr>\n",
       "  </thead>\n",
       "  <tbody>\n",
       "    <tr>\n",
       "      <th>0</th>\n",
       "      <td>131</td>\n",
       "      <td>Alakol</td>\n",
       "      <td>Kazakhstan</td>\n",
       "      <td>Asia</td>\n",
       "      <td>SWBD</td>\n",
       "      <td>1</td>\n",
       "      <td>0</td>\n",
       "      <td>2919.34</td>\n",
       "      <td>567.40</td>\n",
       "      <td>2.96</td>\n",
       "      <td>...</td>\n",
       "      <td>1</td>\n",
       "      <td>22.1</td>\n",
       "      <td>55.947</td>\n",
       "      <td>13347.0</td>\n",
       "      <td>347</td>\n",
       "      <td>-1.0</td>\n",
       "      <td>63248.1</td>\n",
       "      <td>81.672917</td>\n",
       "      <td>46.152083</td>\n",
       "      <td>POLYGON ((81.54844 46.50765, 81.55058 46.50721...</td>\n",
       "    </tr>\n",
       "    <tr>\n",
       "      <th>1</th>\n",
       "      <td>136</td>\n",
       "      <td>Issyk Kul</td>\n",
       "      <td>Kyrgyzstan</td>\n",
       "      <td>Asia</td>\n",
       "      <td>SWBD</td>\n",
       "      <td>1</td>\n",
       "      <td>0</td>\n",
       "      <td>6195.93</td>\n",
       "      <td>608.84</td>\n",
       "      <td>2.18</td>\n",
       "      <td>...</td>\n",
       "      <td>1</td>\n",
       "      <td>280.5</td>\n",
       "      <td>72.678</td>\n",
       "      <td>276778.9</td>\n",
       "      <td>1601</td>\n",
       "      <td>-1.0</td>\n",
       "      <td>21917.0</td>\n",
       "      <td>77.427083</td>\n",
       "      <td>42.485417</td>\n",
       "      <td>POLYGON ((78.21662 42.7446, 78.21667 42.7421, ...</td>\n",
       "    </tr>\n",
       "  </tbody>\n",
       "</table>\n",
       "<p>2 rows × 22 columns</p>\n",
       "</div>"
      ],
      "text/plain": [
       "   Hylak_id  Lake_name     Country Continent Poly_src  Lake_type  Grand_id  \\\n",
       "0       131     Alakol  Kazakhstan      Asia     SWBD          1         0   \n",
       "1       136  Issyk Kul  Kyrgyzstan      Asia     SWBD          1         0   \n",
       "\n",
       "   Lake_area  Shore_len  Shore_dev  ...  Vol_src  Depth_avg  Dis_avg  \\\n",
       "0    2919.34     567.40       2.96  ...        1       22.1   55.947   \n",
       "1    6195.93     608.84       2.18  ...        1      280.5   72.678   \n",
       "\n",
       "   Res_time  Elevation  Slope_100  Wshd_area  Pour_long   Pour_lat  \\\n",
       "0   13347.0        347       -1.0    63248.1  81.672917  46.152083   \n",
       "1  276778.9       1601       -1.0    21917.0  77.427083  42.485417   \n",
       "\n",
       "                                            geometry  \n",
       "0  POLYGON ((81.54844 46.50765, 81.55058 46.50721...  \n",
       "1  POLYGON ((78.21662 42.7446, 78.21667 42.7421, ...  \n",
       "\n",
       "[2 rows x 22 columns]"
      ]
     },
     "execution_count": 25,
     "metadata": {},
     "output_type": "execute_result"
    }
   ],
   "source": [
    "hma_lakes_gdf = gpd.read_file(path_lake)\n",
    "hma_lakes_gdf.head(2)\n"
   ]
  },
  {
   "cell_type": "markdown",
   "metadata": {},
   "source": [
    "#### save the dahiti station information to geopandas dataframe."
   ]
  },
  {
   "cell_type": "code",
   "execution_count": 26,
   "metadata": {},
   "outputs": [],
   "source": [
    "ids, continents, contries, names, types, points = [], [], [], [], [], []\n",
    "for path in paths:\n",
    "    dset = nc.Dataset(path)\n",
    "    ids.append(dset.dahiti_id)\n",
    "    continents.append(dset.continent)\n",
    "    contries.append(dset.country)\n",
    "    names.append(dset.target_name.split(',')[0].strip())\n",
    "    types.append(dset.target_name.split(',')[1].strip())\n",
    "    points.append(Point(dset.longitude, dset.latitude))\n"
   ]
  },
  {
   "cell_type": "code",
   "execution_count": 27,
   "metadata": {},
   "outputs": [],
   "source": [
    "dahiti_lake_station = {'dahiti_id': ids, \n",
    "     'continent': continents,\n",
    "      'country': contries,\n",
    "      'name': names,\n",
    "      'type': types,\n",
    "     'geometry': points}"
   ]
  },
  {
   "cell_type": "code",
   "execution_count": 28,
   "metadata": {},
   "outputs": [],
   "source": [
    "hylak_id, hylak_geoms = [], []\n",
    "for point in points:\n",
    "    id_lake = hma_lakes_gdf.geometry.contains(point)    \n",
    "    if not id_lake.any(): \n",
    "        hylak_geoms.append(None)\n",
    "        hylak_id.append(None)\n",
    "    else:\n",
    "        hylak_geoms.append(hma_lakes_gdf.geometry[id_lake].values[0])\n",
    "        hylak_id.append(hma_lakes_gdf['Hylak_id'][id_lake].values.item())\n"
   ]
  },
  {
   "cell_type": "code",
   "execution_count": 29,
   "metadata": {},
   "outputs": [
    {
     "data": {
      "text/html": [
       "<div>\n",
       "<style scoped>\n",
       "    .dataframe tbody tr th:only-of-type {\n",
       "        vertical-align: middle;\n",
       "    }\n",
       "\n",
       "    .dataframe tbody tr th {\n",
       "        vertical-align: top;\n",
       "    }\n",
       "\n",
       "    .dataframe thead th {\n",
       "        text-align: right;\n",
       "    }\n",
       "</style>\n",
       "<table border=\"1\" class=\"dataframe\">\n",
       "  <thead>\n",
       "    <tr style=\"text-align: right;\">\n",
       "      <th></th>\n",
       "      <th>dahiti_id</th>\n",
       "      <th>continent</th>\n",
       "      <th>country</th>\n",
       "      <th>name</th>\n",
       "      <th>type</th>\n",
       "      <th>geometry</th>\n",
       "      <th>Hylak_id</th>\n",
       "      <th>Hylak_geom</th>\n",
       "    </tr>\n",
       "  </thead>\n",
       "  <tbody>\n",
       "    <tr>\n",
       "      <th>0</th>\n",
       "      <td>10782</td>\n",
       "      <td>Asia</td>\n",
       "      <td>China</td>\n",
       "      <td>Yarlung Tsangpo</td>\n",
       "      <td>River</td>\n",
       "      <td>POINT (91.715 29.2624)</td>\n",
       "      <td>NaN</td>\n",
       "      <td>None</td>\n",
       "    </tr>\n",
       "    <tr>\n",
       "      <th>1</th>\n",
       "      <td>11126</td>\n",
       "      <td>Asia</td>\n",
       "      <td>China</td>\n",
       "      <td>Dulishi</td>\n",
       "      <td>Lake</td>\n",
       "      <td>POINT (81.9182 34.7704)</td>\n",
       "      <td>14943.0</td>\n",
       "      <td>POLYGON ((81.94249471028678 34.77582804361987,...</td>\n",
       "    </tr>\n",
       "  </tbody>\n",
       "</table>\n",
       "</div>"
      ],
      "text/plain": [
       "  dahiti_id continent country             name   type  \\\n",
       "0     10782      Asia   China  Yarlung Tsangpo  River   \n",
       "1     11126      Asia   China          Dulishi   Lake   \n",
       "\n",
       "                  geometry  Hylak_id  \\\n",
       "0   POINT (91.715 29.2624)       NaN   \n",
       "1  POINT (81.9182 34.7704)   14943.0   \n",
       "\n",
       "                                          Hylak_geom  \n",
       "0                                               None  \n",
       "1  POLYGON ((81.94249471028678 34.77582804361987,...  "
      ]
     },
     "execution_count": 29,
     "metadata": {},
     "output_type": "execute_result"
    }
   ],
   "source": [
    "dahiti_lake_station.update({'Hylak_id': hylak_id, 'Hylak_geom': hylak_geoms})\n",
    "dahiti_lake_station_gdf = gpd.GeoDataFrame(dahiti_lake_station, crs=\"EPSG:4326\")\n",
    "dahiti_lake_station_gdf.to_file('data/water-height/dahiti/dahiti_station_hma.gpkg', driver='GPKG')\n",
    "dahiti_lake_station_gdf.head(2)\n"
   ]
  }
 ],
 "metadata": {
  "kernelspec": {
   "display_name": "hma-data",
   "language": "python",
   "name": "python3"
  },
  "language_info": {
   "codemirror_mode": {
    "name": "ipython",
    "version": 3
   },
   "file_extension": ".py",
   "mimetype": "text/x-python",
   "name": "python",
   "nbconvert_exporter": "python",
   "pygments_lexer": "ipython3",
   "version": "3.10.18"
  }
 },
 "nbformat": 4,
 "nbformat_minor": 2
}
