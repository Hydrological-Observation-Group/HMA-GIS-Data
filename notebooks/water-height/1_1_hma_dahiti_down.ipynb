{
 "cells": [
  {
   "cell_type": "markdown",
   "metadata": {},
   "source": [
    "### download dahiti lake height in the hma"
   ]
  },
  {
   "cell_type": "code",
   "execution_count": null,
   "metadata": {},
   "outputs": [],
   "source": [
    "import os\n",
    "import json\n",
    "import requests\n",
    "import pprint"
   ]
  },
  {
   "cell_type": "code",
   "execution_count": null,
   "metadata": {},
   "outputs": [],
   "source": [
    "dahiti_key = '5C5F7D96A01C2A3C2D0F11636BF2F96C1113A22989086EEDCBC1E02710E7474D'\n",
    "dir_download = 'data/altimetry-water-level/dahiti'\n"
   ]
  },
  {
   "cell_type": "markdown",
   "metadata": {},
   "source": [
    "#### download"
   ]
  },
  {
   "cell_type": "code",
   "execution_count": null,
   "metadata": {},
   "outputs": [],
   "source": [
    "''' Download path were all water level time series will be stored '''\n",
    "if not os.path.isdir(dir_download):\n",
    "\tos.mkdir(dir_download)\n",
    "API_KEY = dahiti_key\n",
    "OUTPUT_FORMAT = 'netcdf' ## Option: ascci, json, netcdf, csv \n",
    "\n",
    "url = 'https://dahiti.dgfi.tum.de/api/v2/list-targets/'\n",
    "args = {}\n",
    "''' User configuration '''\n",
    "args['api_key'] = API_KEY\n",
    "''' Search options '''\n",
    "# args['basin'] = 'Amazon'\n",
    "# args['continent'] = 'Asia'\n",
    "#args['country'] = 'de'\n",
    "args['min_lon'], args['max_lon'] = 100, 106   #### 66-106\n",
    "args['min_lat'], args['max_lat'] = 26, 45    #### 26-45\n"
   ]
  },
  {
   "cell_type": "code",
   "execution_count": 7,
   "metadata": {},
   "outputs": [
    {
     "name": "stdout",
     "output_type": "stream",
     "text": [
      "Dataset(s) found: 17\n",
      "Downloading ...  25023 -> b'Dadu, River' (/Users/luo/Library/CloudStorage/OneDrive-Personal/GitHub/HMA-GIS-Data/data/altimetry-water-level/dahiti/25023.nc)\n",
      "Downloading ...  25028 -> b'Fu, River' (/Users/luo/Library/CloudStorage/OneDrive-Personal/GitHub/HMA-GIS-Data/data/altimetry-water-level/dahiti/25028.nc)\n",
      "Downloading ...  25027 -> b'Fu, River' (/Users/luo/Library/CloudStorage/OneDrive-Personal/GitHub/HMA-GIS-Data/data/altimetry-water-level/dahiti/25027.nc)\n",
      "Downloading ...  41703 -> b'Longyangxia, Lake' (/Users/luo/Library/CloudStorage/OneDrive-Personal/GitHub/HMA-GIS-Data/data/altimetry-water-level/dahiti/41703.nc)\n",
      "Downloading ...  227 -> b'Qinghai, Lake' (/Users/luo/Library/CloudStorage/OneDrive-Personal/GitHub/HMA-GIS-Data/data/altimetry-water-level/dahiti/227.nc)\n",
      "Downloading ...  25005 -> b'Yangtze, River' (/Users/luo/Library/CloudStorage/OneDrive-Personal/GitHub/HMA-GIS-Data/data/altimetry-water-level/dahiti/25005.nc)\n",
      "Downloading ...  25010 -> b'Yangtze, River' (/Users/luo/Library/CloudStorage/OneDrive-Personal/GitHub/HMA-GIS-Data/data/altimetry-water-level/dahiti/25010.nc)\n",
      "Downloading ...  25009 -> b'Yangtze, River' (/Users/luo/Library/CloudStorage/OneDrive-Personal/GitHub/HMA-GIS-Data/data/altimetry-water-level/dahiti/25009.nc)\n",
      "Downloading ...  25008 -> b'Yangtze, River' (/Users/luo/Library/CloudStorage/OneDrive-Personal/GitHub/HMA-GIS-Data/data/altimetry-water-level/dahiti/25008.nc)\n",
      "Downloading ...  25006 -> b'Yangtze, River' (/Users/luo/Library/CloudStorage/OneDrive-Personal/GitHub/HMA-GIS-Data/data/altimetry-water-level/dahiti/25006.nc)\n",
      "Downloading ...  25004 -> b'Yangtze, River' (/Users/luo/Library/CloudStorage/OneDrive-Personal/GitHub/HMA-GIS-Data/data/altimetry-water-level/dahiti/25004.nc)\n",
      "Downloading ...  25003 -> b'Yangtze, River' (/Users/luo/Library/CloudStorage/OneDrive-Personal/GitHub/HMA-GIS-Data/data/altimetry-water-level/dahiti/25003.nc)\n",
      "Downloading ...  17055 -> b'Yangtze, River' (/Users/luo/Library/CloudStorage/OneDrive-Personal/GitHub/HMA-GIS-Data/data/altimetry-water-level/dahiti/17055.nc)\n",
      "Downloading ...  16675 -> b'Yangtze, River' (/Users/luo/Library/CloudStorage/OneDrive-Personal/GitHub/HMA-GIS-Data/data/altimetry-water-level/dahiti/16675.nc)\n",
      "Downloading ...  15224 -> b'Yangtze, River' (/Users/luo/Library/CloudStorage/OneDrive-Personal/GitHub/HMA-GIS-Data/data/altimetry-water-level/dahiti/15224.nc)\n",
      "Downloading ...  13807 -> b'Yangtze, River' (/Users/luo/Library/CloudStorage/OneDrive-Personal/GitHub/HMA-GIS-Data/data/altimetry-water-level/dahiti/13807.nc)\n",
      "Downloading ...  18127 -> b'Yellow, River' (/Users/luo/Library/CloudStorage/OneDrive-Personal/GitHub/HMA-GIS-Data/data/altimetry-water-level/dahiti/18127.nc)\n"
     ]
    }
   ],
   "source": [
    "''' send request as method POST '''\n",
    "response = requests.post(url, data=args)\n",
    "if response.status_code == 200:\n",
    "\t''' convert json string in python list '''\n",
    "\ttargets = json.loads(response.text)['data']\n",
    "\tprint ('Dataset(s) found:',len(targets))\t\t\n",
    "\tfor target in targets:\n",
    "\t\t# print (target)\t\t\n",
    "\t\tpath_target_file = dir_download + '/' + str(target['dahiti_id']) + '.nc'\n",
    "\t\tif os.path.exists(path_target_file):\n",
    "\t\t\tprint(f\"File {target['dahiti_id']} already exists. Skipping download.\")\n",
    "\t\t\tcontinue\n",
    "\n",
    "\t\t''' download water level time series '''\n",
    "\t\turl = 'https://dahiti.dgfi.tum.de/api/v2/download-water-level/'\n",
    "\t\targs = {}\n",
    "\t\targs['api_key'] = API_KEY\n",
    "\t\targs['dahiti_id'] = target['dahiti_id']\n",
    "\t\targs['format'] = OUTPUT_FORMAT\t\t\n",
    "\t\tpath_output = os.path.abspath(dir_download+'/'+str(target['dahiti_id'])+'.nc')\n",
    "\t\tprint ('Downloading ... ',target['dahiti_id'],'->',target['target_name'].encode(\"utf8\"),'('+path_output+')')\t\t\n",
    "\t\tresponse_download = requests.post(url, json=args)\n",
    "\t\tif response_download.status_code == 200:\n",
    "\t\t\twith open(path_output, 'wb') as f:\n",
    "\t\t\t\tfor chunk in response_download.iter_content(chunk_size=1024): \n",
    "\t\t\t\t\tif chunk:\n",
    "\t\t\t\t\t\tf.write(chunk)\n",
    "\t\telse:\n",
    "\t\t\tprint ('Error: `download-water-level` request failed!')\n",
    "\t\t\tdata = json.loads(response_download.text)\n",
    "\t\t\tpprint.pprint(data)\n",
    "\t\t\t# sys.exit(0)\n",
    "else:\n",
    "\tprint ('Error: `list-targets` request failed!')\n",
    "\tdata = json.loads(response.text)\n",
    "\tpprint.pprint(data)\n",
    "\n"
   ]
  }
 ],
 "metadata": {
  "kernelspec": {
   "display_name": "hma-data",
   "language": "python",
   "name": "python3"
  },
  "language_info": {
   "codemirror_mode": {
    "name": "ipython",
    "version": 3
   },
   "file_extension": ".py",
   "mimetype": "text/x-python",
   "name": "python",
   "nbconvert_exporter": "python",
   "pygments_lexer": "ipython3",
   "version": "3.10.18"
  }
 },
 "nbformat": 4,
 "nbformat_minor": 2
}
