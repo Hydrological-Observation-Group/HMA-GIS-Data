{
 "cells": [
  {
   "cell_type": "markdown",
   "metadata": {},
   "source": [
    "#### Preprocessing\n",
    "Write the dahiti information into geopandas dataframe."
   ]
  },
  {
   "cell_type": "code",
   "execution_count": 183,
   "metadata": {},
   "outputs": [],
   "source": [
    "from glob import glob\n",
    "import geopandas as gpd\n",
    "from shapely.geometry import Point\n"
   ]
  },
  {
   "cell_type": "code",
   "execution_count": 184,
   "metadata": {},
   "outputs": [],
   "source": [
    "dir_data = \"data/water-height/hydroweb/hydroweb_lakes\"\n",
    "path_lake = 'data/water-extent/lakes/HydroLakes_v10_hma_region.gpkg'"
   ]
  },
  {
   "cell_type": "code",
   "execution_count": 185,
   "metadata": {},
   "outputs": [
    {
     "data": {
      "text/html": [
       "<div>\n",
       "<style scoped>\n",
       "    .dataframe tbody tr th:only-of-type {\n",
       "        vertical-align: middle;\n",
       "    }\n",
       "\n",
       "    .dataframe tbody tr th {\n",
       "        vertical-align: top;\n",
       "    }\n",
       "\n",
       "    .dataframe thead th {\n",
       "        text-align: right;\n",
       "    }\n",
       "</style>\n",
       "<table border=\"1\" class=\"dataframe\">\n",
       "  <thead>\n",
       "    <tr style=\"text-align: right;\">\n",
       "      <th></th>\n",
       "      <th>Hylak_id</th>\n",
       "      <th>Lake_name</th>\n",
       "      <th>Country</th>\n",
       "      <th>Continent</th>\n",
       "      <th>Poly_src</th>\n",
       "      <th>Lake_type</th>\n",
       "      <th>Grand_id</th>\n",
       "      <th>Lake_area</th>\n",
       "      <th>Shore_len</th>\n",
       "      <th>Shore_dev</th>\n",
       "      <th>...</th>\n",
       "      <th>Vol_src</th>\n",
       "      <th>Depth_avg</th>\n",
       "      <th>Dis_avg</th>\n",
       "      <th>Res_time</th>\n",
       "      <th>Elevation</th>\n",
       "      <th>Slope_100</th>\n",
       "      <th>Wshd_area</th>\n",
       "      <th>Pour_long</th>\n",
       "      <th>Pour_lat</th>\n",
       "      <th>geometry</th>\n",
       "    </tr>\n",
       "  </thead>\n",
       "  <tbody>\n",
       "    <tr>\n",
       "      <th>0</th>\n",
       "      <td>131</td>\n",
       "      <td>Alakol</td>\n",
       "      <td>Kazakhstan</td>\n",
       "      <td>Asia</td>\n",
       "      <td>SWBD</td>\n",
       "      <td>1</td>\n",
       "      <td>0</td>\n",
       "      <td>2919.34</td>\n",
       "      <td>567.40</td>\n",
       "      <td>2.96</td>\n",
       "      <td>...</td>\n",
       "      <td>1</td>\n",
       "      <td>22.1</td>\n",
       "      <td>55.947</td>\n",
       "      <td>13347.0</td>\n",
       "      <td>347</td>\n",
       "      <td>-1.0</td>\n",
       "      <td>63248.1</td>\n",
       "      <td>81.672917</td>\n",
       "      <td>46.152083</td>\n",
       "      <td>POLYGON ((81.54844 46.50765, 81.55058 46.50721...</td>\n",
       "    </tr>\n",
       "    <tr>\n",
       "      <th>1</th>\n",
       "      <td>136</td>\n",
       "      <td>Issyk Kul</td>\n",
       "      <td>Kyrgyzstan</td>\n",
       "      <td>Asia</td>\n",
       "      <td>SWBD</td>\n",
       "      <td>1</td>\n",
       "      <td>0</td>\n",
       "      <td>6195.93</td>\n",
       "      <td>608.84</td>\n",
       "      <td>2.18</td>\n",
       "      <td>...</td>\n",
       "      <td>1</td>\n",
       "      <td>280.5</td>\n",
       "      <td>72.678</td>\n",
       "      <td>276778.9</td>\n",
       "      <td>1601</td>\n",
       "      <td>-1.0</td>\n",
       "      <td>21917.0</td>\n",
       "      <td>77.427083</td>\n",
       "      <td>42.485417</td>\n",
       "      <td>POLYGON ((78.21662 42.7446, 78.21667 42.7421, ...</td>\n",
       "    </tr>\n",
       "  </tbody>\n",
       "</table>\n",
       "<p>2 rows × 22 columns</p>\n",
       "</div>"
      ],
      "text/plain": [
       "   Hylak_id  Lake_name     Country Continent Poly_src  Lake_type  Grand_id  \\\n",
       "0       131     Alakol  Kazakhstan      Asia     SWBD          1         0   \n",
       "1       136  Issyk Kul  Kyrgyzstan      Asia     SWBD          1         0   \n",
       "\n",
       "   Lake_area  Shore_len  Shore_dev  ...  Vol_src  Depth_avg  Dis_avg  \\\n",
       "0    2919.34     567.40       2.96  ...        1       22.1   55.947   \n",
       "1    6195.93     608.84       2.18  ...        1      280.5   72.678   \n",
       "\n",
       "   Res_time  Elevation  Slope_100  Wshd_area  Pour_long   Pour_lat  \\\n",
       "0   13347.0        347       -1.0    63248.1  81.672917  46.152083   \n",
       "1  276778.9       1601       -1.0    21917.0  77.427083  42.485417   \n",
       "\n",
       "                                            geometry  \n",
       "0  POLYGON ((81.54844 46.50765, 81.55058 46.50721...  \n",
       "1  POLYGON ((78.21662 42.7446, 78.21667 42.7421, ...  \n",
       "\n",
       "[2 rows x 22 columns]"
      ]
     },
     "execution_count": 185,
     "metadata": {},
     "output_type": "execute_result"
    }
   ],
   "source": [
    "hma_lakes_gdf = gpd.read_file(path_lake)\n",
    "hma_lakes_gdf.head(2)\n"
   ]
  },
  {
   "cell_type": "code",
   "execution_count": 186,
   "metadata": {},
   "outputs": [],
   "source": [
    "lake_id, lake_name, lake_contry, lake_basin, lake_lat, lake_lon = [], [], [], [], [], []\n",
    "paths_file = glob(dir_data+'/*.txt')\n",
    "for path_file in paths_file:\n",
    "    with open(path_file, 'r') as f:\n",
    "        content = f.read()\n",
    "        # Extract lake information\n",
    "        lake_info = {}\n",
    "        line_first = content.split('\\n')[0]\n",
    "        parts = line_first.split(';')\n",
    "        lake_id.append(parts[10].split('=')[1].strip())\n",
    "        lake_name.append(parts[0].split('=')[1])\n",
    "        lake_contry.append(parts[1].split('=')[1])\n",
    "        lake_basin.append(parts[2].split('=')[1])\n",
    "        lake_lat.append(float(parts[3].split('=')[1]))  \n",
    "        lake_lon.append(float(parts[4].split('=')[1]))\n",
    "\n",
    "lake_info = {'hydroweb_id': lake_id, 'name': lake_name, 'contry': lake_contry, 'basin': lake_basin}"
   ]
  },
  {
   "cell_type": "code",
   "execution_count": 187,
   "metadata": {},
   "outputs": [],
   "source": [
    "loc = [Point(lon, lat) for lon, lat in zip(lake_lon, lake_lat)]\n",
    "hylak_id, hylak_geoms = [], []\n",
    "for point in loc:\n",
    "    id_lake = hma_lakes_gdf.geometry.contains(point)    \n",
    "    if not id_lake.any(): \n",
    "        hylak_geoms.append(None)\n",
    "        hylak_id.append(None)\n",
    "    else:\n",
    "        hylak_geoms.append(hma_lakes_gdf.geometry[id_lake].values[0])\n",
    "        hylak_id.append(hma_lakes_gdf['Hylak_id'][id_lake].values.item())\n"
   ]
  },
  {
   "cell_type": "code",
   "execution_count": 188,
   "metadata": {},
   "outputs": [],
   "source": [
    "lake_info.update({'location':loc, 'Hylak_id': hylak_id, 'Hylak_geom': hylak_geoms})\n"
   ]
  },
  {
   "cell_type": "code",
   "execution_count": 191,
   "metadata": {},
   "outputs": [
    {
     "data": {
      "text/html": [
       "<div>\n",
       "<style scoped>\n",
       "    .dataframe tbody tr th:only-of-type {\n",
       "        vertical-align: middle;\n",
       "    }\n",
       "\n",
       "    .dataframe tbody tr th {\n",
       "        vertical-align: top;\n",
       "    }\n",
       "\n",
       "    .dataframe thead th {\n",
       "        text-align: right;\n",
       "    }\n",
       "</style>\n",
       "<table border=\"1\" class=\"dataframe\">\n",
       "  <thead>\n",
       "    <tr style=\"text-align: right;\">\n",
       "      <th></th>\n",
       "      <th>hydroweb_id</th>\n",
       "      <th>name</th>\n",
       "      <th>contry</th>\n",
       "      <th>basin</th>\n",
       "      <th>location</th>\n",
       "      <th>Hylak_id</th>\n",
       "      <th>Hylak_geom</th>\n",
       "    </tr>\n",
       "  </thead>\n",
       "  <tbody>\n",
       "    <tr>\n",
       "      <th>0</th>\n",
       "      <td>1300000001404</td>\n",
       "      <td>migriggyangzham</td>\n",
       "      <td>China</td>\n",
       "      <td>Mongolian</td>\n",
       "      <td>POINT (90.33 33.45)</td>\n",
       "      <td>1404.0</td>\n",
       "      <td>POLYGON ((90.33479712592299 33.66377685546871,...</td>\n",
       "    </tr>\n",
       "    <tr>\n",
       "      <th>1</th>\n",
       "      <td>1300000001336</td>\n",
       "      <td>hala</td>\n",
       "      <td>China</td>\n",
       "      <td>Mongolian</td>\n",
       "      <td>POINT (97.6 38.3)</td>\n",
       "      <td>1336.0</td>\n",
       "      <td>POLYGON ((97.49625840928849 38.41372219509566,...</td>\n",
       "    </tr>\n",
       "  </tbody>\n",
       "</table>\n",
       "</div>"
      ],
      "text/plain": [
       "     hydroweb_id             name contry      basin             location  \\\n",
       "0  1300000001404  migriggyangzham  China  Mongolian  POINT (90.33 33.45)   \n",
       "1  1300000001336             hala  China  Mongolian    POINT (97.6 38.3)   \n",
       "\n",
       "   Hylak_id                                         Hylak_geom  \n",
       "0    1404.0  POLYGON ((90.33479712592299 33.66377685546871,...  \n",
       "1    1336.0  POLYGON ((97.49625840928849 38.41372219509566,...  "
      ]
     },
     "execution_count": 191,
     "metadata": {},
     "output_type": "execute_result"
    }
   ],
   "source": [
    "lake_hydroweb_gdf = gpd.GeoDataFrame(lake_info, geometry='location', crs='EPSG:4326')\n",
    "lake_hydroweb_gdf.head(2)\n",
    "# lake_hydroweb_gdf.to_file('data/water-height/hydroweb/hydroweb_stations_hma.gpkg', driver='GPKG')\n"
   ]
  },
  {
   "cell_type": "code",
   "execution_count": null,
   "metadata": {},
   "outputs": [],
   "source": []
  }
 ],
 "metadata": {
  "kernelspec": {
   "display_name": "hma-data",
   "language": "python",
   "name": "python3"
  },
  "language_info": {
   "codemirror_mode": {
    "name": "ipython",
    "version": 3
   },
   "file_extension": ".py",
   "mimetype": "text/x-python",
   "name": "python",
   "nbconvert_exporter": "python",
   "pygments_lexer": "ipython3",
   "version": "3.10.18"
  }
 },
 "nbformat": 4,
 "nbformat_minor": 2
}
