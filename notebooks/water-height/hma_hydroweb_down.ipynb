{
 "cells": [
  {
   "cell_type": "markdown",
   "metadata": {},
   "source": [
    "### download hydroweb lake height in the hma"
   ]
  },
  {
   "cell_type": "code",
   "execution_count": null,
   "metadata": {},
   "outputs": [],
   "source": [
    "import os\n",
    "import zipfile\n",
    "import shutil\n",
    "import py_hydroweb\n"
   ]
  },
  {
   "cell_type": "code",
   "execution_count": 8,
   "metadata": {},
   "outputs": [],
   "source": [
    "hydroweb_key = \"O5aCzYI1XW4WN1kma7HdIJypG7reXsUpRfolKqPHNHEqf9Vf74\"\n",
    "dir_down = \"data/water-height/hydroweb\"\n",
    "file_name = 'hydroweb_lakes.zip'\n",
    "region = [66, 26, 106, 45]    ### left, bottom, right, top\n"
   ]
  },
  {
   "cell_type": "markdown",
   "metadata": {},
   "source": [
    "#### download"
   ]
  },
  {
   "cell_type": "code",
   "execution_count": null,
   "metadata": {},
   "outputs": [],
   "source": [
    "### download data\n",
    "client = py_hydroweb.Client(\"https://hydroweb.next.theia-land.fr/api\", hydroweb_key)  \n",
    "basket = py_hydroweb.DownloadBasket(\"my_download_basket\")\n",
    "basket.add_collection(\"HYDROWEB_LAKES_OPE\", bbox=region)  ## left, bottom, right, top\n",
    "client.submit_and_download_zip(basket, zip_filename=file_name, output_folder = dir_down)\n"
   ]
  },
  {
   "cell_type": "code",
   "execution_count": 4,
   "metadata": {},
   "outputs": [],
   "source": [
    "### unzip the download data\n",
    "dest_dir = dir_down+'/hydroweb_lakes'\n",
    "source_dir = dest_dir+'/HYDROWEB_LAKES_OPE/HYDROWEB_LAKES_OPE'\n",
    "if not os.path.exists(dest_dir): \n",
    "    os.makedirs(dest_dir, exist_ok=True)\n",
    "with zipfile.ZipFile(dir_down+'/'+file_name, 'r') as zip_ref:\n",
    "    zip_ref.extractall(dest_dir)\n",
    "for txt_name in os.listdir(source_dir):\n",
    "    if txt_name.endswith('.txt'):\n",
    "        shutil.move(os.path.join(source_dir, txt_name), os.path.join(dest_dir, txt_name))\n",
    "shutil.rmtree(dest_dir+'/HYDROWEB_LAKES_OPE')\n"
   ]
  },
  {
   "cell_type": "code",
   "execution_count": null,
   "metadata": {},
   "outputs": [],
   "source": [
    "\n",
    "\n"
   ]
  }
 ],
 "metadata": {
  "kernelspec": {
   "display_name": "hma-data",
   "language": "python",
   "name": "python3"
  },
  "language_info": {
   "codemirror_mode": {
    "name": "ipython",
    "version": 3
   },
   "file_extension": ".py",
   "mimetype": "text/x-python",
   "name": "python",
   "nbconvert_exporter": "python",
   "pygments_lexer": "ipython3",
   "version": "3.10.18"
  }
 },
 "nbformat": 4,
 "nbformat_minor": 2
}
