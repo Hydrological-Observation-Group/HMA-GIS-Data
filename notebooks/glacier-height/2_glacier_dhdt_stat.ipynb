{
 "cells": [
  {
   "cell_type": "markdown",
   "metadata": {},
   "source": [
    "### glacier elevatin change statistics based on data by Huggonet et al.(2021) .\n"
   ]
  },
  {
   "cell_type": "code",
   "execution_count": 1,
   "metadata": {},
   "outputs": [],
   "source": [
    "import rasterio as rio\n",
    "import numpy as np\n",
    "import geopandas as gpd\n",
    "from rasterio.enums import Resampling\n",
    "from rasterstats import zonal_stats\n"
   ]
  },
  {
   "cell_type": "code",
   "execution_count": 2,
   "metadata": {},
   "outputs": [],
   "source": [
    "path_dhdt_gla = 'data/glacier-height/hugonnet-gla-dset/dhdt_2000_2019/dhdt/dhdt_mosaic.tif'\n",
    "path_hma_gtng = 'data/hma-extent/HMA/hma_gtng_202307_subregions.gpkg'\n",
    "path_gla_larger1 = 'data/glacier-extent/rgi70/hma_rgi70_larger1km2.gpkg'\n"
   ]
  },
  {
   "cell_type": "code",
   "execution_count": 3,
   "metadata": {},
   "outputs": [],
   "source": [
    "## read hma and glacier extent\n",
    "hma_gtng_gdf = gpd.read_file(path_hma_gtng)\n",
    "gla_larger1_gdf = gpd.read_file(path_gla_larger1)\n"
   ]
  },
  {
   "cell_type": "code",
   "execution_count": 4,
   "metadata": {},
   "outputs": [],
   "source": [
    "### read dhdt data\n",
    "with rio.open(path_dhdt_gla) as src:\n",
    "    arr_down = src.read(\n",
    "        1,  # Read the first band\n",
    "        out_shape=(src.height // 3, src.width // 3),  # Downsampling\n",
    "        resampling=Resampling.bilinear\n",
    "        )\n",
    "    src_bounds = src.bounds  # Get the bounds of the source raster\n",
    "arr_down[arr_down == src.nodata] = np.nan  # Set nodata values to NaN\n",
    "dhdt_extent = [src_bounds.left, src_bounds.right, src_bounds.bottom, src_bounds.top]\n"
   ]
  },
  {
   "cell_type": "code",
   "execution_count": 5,
   "metadata": {},
   "outputs": [],
   "source": [
    "stats = zonal_stats(\n",
    "    vectors=gla_larger1_gdf,         \n",
    "    raster=path_dhdt_gla,   #  path of the raster file\n",
    "    stats=['mean', 'median', 'std', 'count'],  # statistics to compute\n",
    "    geojson_out=True,  # output as GeoJSON\n",
    "    nodata=src.nodata)\n"
   ]
  },
  {
   "cell_type": "code",
   "execution_count": 6,
   "metadata": {},
   "outputs": [
    {
     "data": {
      "text/html": [
       "<div>\n",
       "<style scoped>\n",
       "    .dataframe tbody tr th:only-of-type {\n",
       "        vertical-align: middle;\n",
       "    }\n",
       "\n",
       "    .dataframe tbody tr th {\n",
       "        vertical-align: top;\n",
       "    }\n",
       "\n",
       "    .dataframe thead th {\n",
       "        text-align: right;\n",
       "    }\n",
       "</style>\n",
       "<table border=\"1\" class=\"dataframe\">\n",
       "  <thead>\n",
       "    <tr style=\"text-align: right;\">\n",
       "      <th></th>\n",
       "      <th>rgi_id</th>\n",
       "      <th>area_km2</th>\n",
       "      <th>mean</th>\n",
       "      <th>median</th>\n",
       "      <th>std</th>\n",
       "      <th>count</th>\n",
       "      <th>geometry</th>\n",
       "    </tr>\n",
       "  </thead>\n",
       "  <tbody>\n",
       "    <tr>\n",
       "      <th>0</th>\n",
       "      <td>RGI2000-v7.0-G-13-00248</td>\n",
       "      <td>2.317426</td>\n",
       "      <td>-0.056183</td>\n",
       "      <td>-0.025720</td>\n",
       "      <td>0.463052</td>\n",
       "      <td>178</td>\n",
       "      <td>MULTIPOLYGON Z (((68.11814 39.07499 0, 68.1177...</td>\n",
       "    </tr>\n",
       "    <tr>\n",
       "      <th>1</th>\n",
       "      <td>RGI2000-v7.0-G-13-00333</td>\n",
       "      <td>1.566492</td>\n",
       "      <td>0.120341</td>\n",
       "      <td>0.017896</td>\n",
       "      <td>0.340954</td>\n",
       "      <td>142</td>\n",
       "      <td>MULTIPOLYGON Z (((68.28872 39.1812 0, 68.28813...</td>\n",
       "    </tr>\n",
       "    <tr>\n",
       "      <th>2</th>\n",
       "      <td>RGI2000-v7.0-G-13-00337</td>\n",
       "      <td>1.248292</td>\n",
       "      <td>-0.087538</td>\n",
       "      <td>0.008667</td>\n",
       "      <td>0.557182</td>\n",
       "      <td>63</td>\n",
       "      <td>MULTIPOLYGON Z (((68.29033 39.1667 0, 68.29011...</td>\n",
       "    </tr>\n",
       "    <tr>\n",
       "      <th>3</th>\n",
       "      <td>RGI2000-v7.0-G-13-00342</td>\n",
       "      <td>1.367711</td>\n",
       "      <td>-0.120291</td>\n",
       "      <td>-0.126801</td>\n",
       "      <td>0.287575</td>\n",
       "      <td>106</td>\n",
       "      <td>MULTIPOLYGON Z (((68.31505 39.15983 0, 68.3151...</td>\n",
       "    </tr>\n",
       "    <tr>\n",
       "      <th>4</th>\n",
       "      <td>RGI2000-v7.0-G-13-00358</td>\n",
       "      <td>3.060479</td>\n",
       "      <td>0.000685</td>\n",
       "      <td>-0.000928</td>\n",
       "      <td>0.312978</td>\n",
       "      <td>281</td>\n",
       "      <td>MULTIPOLYGON Z (((68.32432 39.15742 0, 68.3243...</td>\n",
       "    </tr>\n",
       "  </tbody>\n",
       "</table>\n",
       "</div>"
      ],
      "text/plain": [
       "                    rgi_id  area_km2      mean    median       std  count  \\\n",
       "0  RGI2000-v7.0-G-13-00248  2.317426 -0.056183 -0.025720  0.463052    178   \n",
       "1  RGI2000-v7.0-G-13-00333  1.566492  0.120341  0.017896  0.340954    142   \n",
       "2  RGI2000-v7.0-G-13-00337  1.248292 -0.087538  0.008667  0.557182     63   \n",
       "3  RGI2000-v7.0-G-13-00342  1.367711 -0.120291 -0.126801  0.287575    106   \n",
       "4  RGI2000-v7.0-G-13-00358  3.060479  0.000685 -0.000928  0.312978    281   \n",
       "\n",
       "                                            geometry  \n",
       "0  MULTIPOLYGON Z (((68.11814 39.07499 0, 68.1177...  \n",
       "1  MULTIPOLYGON Z (((68.28872 39.1812 0, 68.28813...  \n",
       "2  MULTIPOLYGON Z (((68.29033 39.1667 0, 68.29011...  \n",
       "3  MULTIPOLYGON Z (((68.31505 39.15983 0, 68.3151...  \n",
       "4  MULTIPOLYGON Z (((68.32432 39.15742 0, 68.3243...  "
      ]
     },
     "execution_count": 6,
     "metadata": {},
     "output_type": "execute_result"
    }
   ],
   "source": [
    "## convert to GeoDataFrame\n",
    "gla_stats_gdf = gpd.GeoDataFrame.from_features(stats, crs=gla_larger1_gdf.crs)\n",
    "gla_stats_gdf = gla_stats_gdf[['rgi_id', 'area_km2', 'mean', 'median', 'std', 'count', 'geometry']]\n",
    "gla_stats_gdf.head(5)\n",
    "# gla_stats_gdf.to_file('data/glacier-height/hugonnet-gla-dset/dhdt_2000_2019/gla_rgi70_dhdt_stats.gpkg', driver='GPKG')\n"
   ]
  },
  {
   "cell_type": "code",
   "execution_count": null,
   "metadata": {},
   "outputs": [],
   "source": []
  }
 ],
 "metadata": {
  "kernelspec": {
   "display_name": "hma-data",
   "language": "python",
   "name": "python3"
  },
  "language_info": {
   "codemirror_mode": {
    "name": "ipython",
    "version": 3
   },
   "file_extension": ".py",
   "mimetype": "text/x-python",
   "name": "python",
   "nbconvert_exporter": "python",
   "pygments_lexer": "ipython3",
   "version": "3.10.18"
  },
  "orig_nbformat": 4
 },
 "nbformat": 4,
 "nbformat_minor": 2
}
