{
 "cells": [
  {
   "cell_type": "markdown",
   "id": "1c60b799",
   "metadata": {},
   "source": [
    "### glacier elevation change tiles processing\n",
    "1. mosaic of images;   \n",
    "2. clip the mosaic image to hma region.\n"
   ]
  },
  {
   "cell_type": "code",
   "execution_count": null,
   "id": "ca81e41a",
   "metadata": {},
   "outputs": [],
   "source": [
    "import os\n",
    "import rasterio as rio\n",
    "import geopandas as gpd\n",
    "from glob import glob\n",
    "from rasterio.merge import merge\n",
    "from rasterio.mask import mask\n",
    "from rasterio.warp import reproject, Resampling\n",
    "from rasterio.warp import calculate_default_transform\n"
   ]
  },
  {
   "cell_type": "markdown",
   "id": "d879c432",
   "metadata": {},
   "source": [
    "### Mosaic"
   ]
  },
  {
   "cell_type": "code",
   "execution_count": 18,
   "id": "5fa8c871",
   "metadata": {},
   "outputs": [
    {
     "data": {
      "text/plain": [
       "320"
      ]
     },
     "execution_count": 18,
     "metadata": {},
     "output_type": "execute_result"
    }
   ],
   "source": [
    "paths_tile_ls = glob('data/glacier-height/hugonnet-gla-dset/dhdt_2000_2019/dhdt/*dhdt.tif')\n",
    "path_mosaic = 'data/glacier-height/hugonnet-gla-dset/dhdt_2000_2019/dhdt/dhdt_mosaic.tif'\n",
    "len(paths_tile_ls)\n"
   ]
  },
  {
   "cell_type": "code",
   "execution_count": 16,
   "id": "f1d83c9b",
   "metadata": {},
   "outputs": [
    {
     "data": {
      "text/plain": [
       "array([[[-9999., -9999., -9999., ..., -9999., -9999., -9999.],\n",
       "        [-9999., -9999., -9999., ..., -9999., -9999., -9999.],\n",
       "        [-9999., -9999., -9999., ..., -9999., -9999., -9999.],\n",
       "        ...,\n",
       "        [-9999., -9999., -9999., ..., -9999., -9999., -9999.],\n",
       "        [-9999., -9999., -9999., ..., -9999., -9999., -9999.],\n",
       "        [-9999., -9999., -9999., ..., -9999., -9999., -9999.]]],\n",
       "      shape=(1, 97, 221), dtype=float32)"
      ]
     },
     "execution_count": 16,
     "metadata": {},
     "output_type": "execute_result"
    }
   ],
   "source": [
    "def raster_reproj(src, target_crs=\"EPSG:4326\", resample_method=Resampling.nearest):\n",
    "    \"\"\"\n",
    "    Reproject a raster to a specified CRS.\n",
    "    Parameters:\n",
    "        src (rasterio.io.DatasetReader): Source raster.\n",
    "        target_crs (str): Target CRS in EPSG format.\n",
    "        resample_method (Resampling): Resampling method to use.        \n",
    "    Returns:\n",
    "        src_reproj (numpy.ndarray): Reprojected raster data.\n",
    "    \"\"\"\n",
    "    transform, width, height = calculate_default_transform(\n",
    "                src.crs, target_crs, src.width, src.height, *src.bounds)    \n",
    "    kwargs = src.profile.copy()\n",
    "    kwargs.update({\n",
    "        'crs': target_crs, 'transform': transform,\n",
    "        'width': width, 'height': height})\n",
    "    \n",
    "    memfile = rio.io.MemoryFile()\n",
    "    with memfile.open(**kwargs) as dst:\n",
    "        for i in range(1, src.count + 1):\n",
    "            reproject(\n",
    "                source=rio.band(src, i),\n",
    "                destination=rio.band(dst, i),\n",
    "                src_transform=src.transform,\n",
    "                src_crs=src.crs,\n",
    "                dst_transform=transform,\n",
    "                dst_crs=target_crs,\n",
    "                resampling=resample_method\n",
    "            )\n",
    "        src_reproj = memfile.open()  # Open the memory file as a rasterio dataset\n",
    "    return src_reproj\n",
    "\n",
    "src = rio.open(paths_tile_ls[0])\n",
    "dst_crs = \"EPSG:4326\"\n",
    "src_reproj = raster_reproj(src, dst_crs)\n",
    "src_reproj.read()\n"
   ]
  },
  {
   "cell_type": "code",
   "execution_count": 17,
   "id": "f72af5ab",
   "metadata": {},
   "outputs": [],
   "source": [
    "srcs_to_mosaic = []\n",
    "for fp in paths_tile_ls:\n",
    "    src = rio.open(fp)\n",
    "    src_reproj2wgs84 = raster_reproj(src, target_crs=\"EPSG:4326\")\n",
    "    srcs_to_mosaic.append(src_reproj2wgs84)\n",
    "\n",
    "mosaic_arr, mosaic_trans = merge(srcs_to_mosaic)\n",
    "mosaic_meta = src.meta.copy()\n",
    "mosaic_meta.update({\n",
    "    \"height\": mosaic_arr.shape[1],\n",
    "    \"width\": mosaic_arr.shape[2],\n",
    "    \"transform\": mosaic_trans,\n",
    "    \"crs\": \"EPSG:4326\"  # Ensure the CRS is set to WGS84\n",
    "    })\n",
    "# # Write the mosaic raster to disk\n",
    "# with rio.open(path_mosaic, 'w', **mosaic_meta) as dest:\n",
    "#     dest.write(mosaic_arr)\n"
   ]
  },
  {
   "cell_type": "markdown",
   "id": "444e868e",
   "metadata": {},
   "source": [
    "### clip image to subregion"
   ]
  },
  {
   "cell_type": "code",
   "execution_count": null,
   "id": "659aa4bb",
   "metadata": {},
   "outputs": [],
   "source": [
    "path_dhdt = 'data/glacier-height/hugonnet-gla-dset/dhdt_2000_2019/dhdt/dhdt_mosaic.tif'\n",
    "path_hma_gtng = 'data/hma-extent/HMA/hma_gtng_202307_subregions.gpkg'\n",
    "hma_vec_gdf = gpd.read_file(path_hma_gtng)\n",
    "\n",
    "with rio.open(path_dhdt) as src:\n",
    "    if hma_vec_gdf.crs != src.crs: \n",
    "        hma_vec_gdf = hma_vec_gdf.to_crs(src.crs)      \n",
    "    for idx, row in hma_vec_gdf.iterrows():\n",
    "        geom = row.geometry\n",
    "        clipped_arr, clipped_transform = mask(dataset=src, shapes = [geom], \n",
    "                                              crop=True, all_touched=True)\n",
    "        meta = src.meta.copy()\n",
    "        meta.update({\n",
    "            \"height\": clipped_arr.shape[1],\n",
    "            \"width\": clipped_arr.shape[2],\n",
    "            \"transform\": clipped_transform})\n",
    "        # ## save to path\n",
    "        name_subregion = row['full_name'].split(' (')[0].replace(' ', '_').lower()\n",
    "        path_save = f\"data/glacier-height/hugonnet-gla-dset/dhdt_2000_2019/dhdt/hma-subregions/dhdt_{name_subregion}.tif\"\n",
    "        # if os.path.exists(path_save): os.remove(path_save)\n",
    "        # with rio.open(path_save, \"w\", **meta) as dst:\n",
    "        #     dst.write(clipped_arr)\n",
    "        # print(f\"saved to: {path_save}\")\n"
   ]
  },
  {
   "cell_type": "code",
   "execution_count": null,
   "id": "63242a67",
   "metadata": {},
   "outputs": [],
   "source": []
  }
 ],
 "metadata": {
  "kernelspec": {
   "display_name": "hma-data",
   "language": "python",
   "name": "python3"
  },
  "language_info": {
   "codemirror_mode": {
    "name": "ipython",
    "version": 3
   },
   "file_extension": ".py",
   "mimetype": "text/x-python",
   "name": "python",
   "nbconvert_exporter": "python",
   "pygments_lexer": "ipython3",
   "version": "3.10.18"
  }
 },
 "nbformat": 4,
 "nbformat_minor": 5
}
