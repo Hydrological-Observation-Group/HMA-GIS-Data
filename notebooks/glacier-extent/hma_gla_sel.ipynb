{
 "cells": [
  {
   "cell_type": "markdown",
   "metadata": {},
   "source": [
    "### Selecting glaciers \n",
    "(1) in hma region.  \n",
    "(2) lager than 1 km2. \n"
   ]
  },
  {
   "cell_type": "code",
   "execution_count": 8,
   "metadata": {},
   "outputs": [],
   "source": [
    "import numpy as np\n",
    "import pandas as pd\n",
    "import geopandas as gpd\n",
    "import matplotlib.pyplot as plt\n"
   ]
  },
  {
   "cell_type": "markdown",
   "metadata": {},
   "source": [
    "#### 1. Select glaciers in the HMA region."
   ]
  },
  {
   "cell_type": "code",
   "execution_count": 4,
   "metadata": {},
   "outputs": [],
   "source": [
    "path_rgi70_13 = 'data/glacier-extent/rgi70/RGI2000-v7.0-G-13_central_asia.gpkg'   ## Cental Asia\n",
    "path_rgi70_14 = 'data/glacier-extent/rgi70/RGI2000-v7.0-G-14_south_asia_west.gpkg'   ## South Asia (West)\n",
    "path_rgi70_15 = 'data/glacier-extent/rgi70/RGI2000-v7.0-G-15_south_asia_east.gpkg'   ## South Asia (East)\n"
   ]
  },
  {
   "cell_type": "code",
   "execution_count": 5,
   "metadata": {},
   "outputs": [
    {
     "name": "stdout",
     "output_type": "stream",
     "text": [
      "(131762, 29)\n"
     ]
    },
    {
     "data": {
      "text/html": [
       "<div>\n",
       "<style scoped>\n",
       "    .dataframe tbody tr th:only-of-type {\n",
       "        vertical-align: middle;\n",
       "    }\n",
       "\n",
       "    .dataframe tbody tr th {\n",
       "        vertical-align: top;\n",
       "    }\n",
       "\n",
       "    .dataframe thead th {\n",
       "        text-align: right;\n",
       "    }\n",
       "</style>\n",
       "<table border=\"1\" class=\"dataframe\">\n",
       "  <thead>\n",
       "    <tr style=\"text-align: right;\">\n",
       "      <th></th>\n",
       "      <th>rgi_id</th>\n",
       "      <th>o1region</th>\n",
       "      <th>o2region</th>\n",
       "      <th>glims_id</th>\n",
       "      <th>anlys_id</th>\n",
       "      <th>subm_id</th>\n",
       "      <th>src_date</th>\n",
       "      <th>cenlon</th>\n",
       "      <th>cenlat</th>\n",
       "      <th>utm_zone</th>\n",
       "      <th>...</th>\n",
       "      <th>zmin_m</th>\n",
       "      <th>zmax_m</th>\n",
       "      <th>zmed_m</th>\n",
       "      <th>zmean_m</th>\n",
       "      <th>slope_deg</th>\n",
       "      <th>aspect_deg</th>\n",
       "      <th>aspect_sec</th>\n",
       "      <th>dem_source</th>\n",
       "      <th>lmax_m</th>\n",
       "      <th>geometry</th>\n",
       "    </tr>\n",
       "  </thead>\n",
       "  <tbody>\n",
       "    <tr>\n",
       "      <th>0</th>\n",
       "      <td>RGI2000-v7.0-G-13-00001</td>\n",
       "      <td>13</td>\n",
       "      <td>13-01</td>\n",
       "      <td>G067426E38743N</td>\n",
       "      <td>804440</td>\n",
       "      <td>752</td>\n",
       "      <td>2002-07-10T00:00:00</td>\n",
       "      <td>67.425881</td>\n",
       "      <td>38.743313</td>\n",
       "      <td>42</td>\n",
       "      <td>...</td>\n",
       "      <td>3693.8557</td>\n",
       "      <td>3783.9656</td>\n",
       "      <td>3727.2417</td>\n",
       "      <td>3728.6082</td>\n",
       "      <td>34.003925</td>\n",
       "      <td>26.572540</td>\n",
       "      <td>2</td>\n",
       "      <td>COPDEM30</td>\n",
       "      <td>151</td>\n",
       "      <td>MULTIPOLYGON Z (((67.42669 38.74384 0, 67.4266...</td>\n",
       "    </tr>\n",
       "    <tr>\n",
       "      <th>1</th>\n",
       "      <td>RGI2000-v7.0-G-13-00002</td>\n",
       "      <td>13</td>\n",
       "      <td>13-01</td>\n",
       "      <td>G067480E38714N</td>\n",
       "      <td>804446</td>\n",
       "      <td>752</td>\n",
       "      <td>2002-07-10T00:00:00</td>\n",
       "      <td>67.479616</td>\n",
       "      <td>38.714583</td>\n",
       "      <td>42</td>\n",
       "      <td>...</td>\n",
       "      <td>3839.7866</td>\n",
       "      <td>3899.8672</td>\n",
       "      <td>3873.0503</td>\n",
       "      <td>3870.6500</td>\n",
       "      <td>29.506857</td>\n",
       "      <td>344.175386</td>\n",
       "      <td>1</td>\n",
       "      <td>COPDEM30</td>\n",
       "      <td>181</td>\n",
       "      <td>MULTIPOLYGON Z (((67.48079 38.71486 0, 67.4807...</td>\n",
       "    </tr>\n",
       "  </tbody>\n",
       "</table>\n",
       "<p>2 rows × 29 columns</p>\n",
       "</div>"
      ],
      "text/plain": [
       "                    rgi_id o1region o2region        glims_id  anlys_id  \\\n",
       "0  RGI2000-v7.0-G-13-00001       13    13-01  G067426E38743N    804440   \n",
       "1  RGI2000-v7.0-G-13-00002       13    13-01  G067480E38714N    804446   \n",
       "\n",
       "   subm_id             src_date     cenlon     cenlat  utm_zone  ...  \\\n",
       "0      752  2002-07-10T00:00:00  67.425881  38.743313        42  ...   \n",
       "1      752  2002-07-10T00:00:00  67.479616  38.714583        42  ...   \n",
       "\n",
       "      zmin_m     zmax_m     zmed_m    zmean_m  slope_deg  aspect_deg  \\\n",
       "0  3693.8557  3783.9656  3727.2417  3728.6082  34.003925   26.572540   \n",
       "1  3839.7866  3899.8672  3873.0503  3870.6500  29.506857  344.175386   \n",
       "\n",
       "   aspect_sec  dem_source  lmax_m  \\\n",
       "0           2    COPDEM30     151   \n",
       "1           1    COPDEM30     181   \n",
       "\n",
       "                                            geometry  \n",
       "0  MULTIPOLYGON Z (((67.42669 38.74384 0, 67.4266...  \n",
       "1  MULTIPOLYGON Z (((67.48079 38.71486 0, 67.4807...  \n",
       "\n",
       "[2 rows x 29 columns]"
      ]
     },
     "execution_count": 5,
     "metadata": {},
     "output_type": "execute_result"
    }
   ],
   "source": [
    "## Read data\n",
    "rgi70_13 = gpd.read_file(path_rgi70_13)\n",
    "rgi70_14 = gpd.read_file(path_rgi70_14)\n",
    "rgi70_15 = gpd.read_file(path_rgi70_15)\n",
    "rgi70_hma = pd.concat([rgi70_13 , rgi70_14, rgi70_15])\n",
    "print(rgi70_hma.shape)\n",
    "rgi70_hma.head(2)\n",
    "# rgi70_hma.to_file('data/glacier-extent/rgi70/hma_rgi70.gpkg', \n",
    "#                   driver='GPKG')\n"
   ]
  },
  {
   "cell_type": "code",
   "execution_count": null,
   "metadata": {},
   "outputs": [],
   "source": [
    "rgi70_hma_larger2 = rgi70_hma[rgi70_hma['area_km2'] > 2]\n",
    "rgi70_hma_larger2.head(2)\n",
    "# rgi70_hma_larger2.to_file('data/glacier-extent/rgi70/hma_rgi70_larger2km2.gpkg', \n",
    "#                           driver='GPKG')\n"
   ]
  },
  {
   "cell_type": "code",
   "execution_count": null,
   "metadata": {},
   "outputs": [],
   "source": [
    "\n",
    "\n"
   ]
  }
 ],
 "metadata": {
  "kernelspec": {
   "display_name": "hma-data",
   "language": "python",
   "name": "python3"
  },
  "language_info": {
   "codemirror_mode": {
    "name": "ipython",
    "version": 3
   },
   "file_extension": ".py",
   "mimetype": "text/x-python",
   "name": "python",
   "nbconvert_exporter": "python",
   "pygments_lexer": "ipython3",
   "version": "3.10.18"
  }
 },
 "nbformat": 4,
 "nbformat_minor": 2
}
