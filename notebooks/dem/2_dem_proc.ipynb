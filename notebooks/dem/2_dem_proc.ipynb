{
 "cells": [
  {
   "cell_type": "markdown",
   "metadata": {},
   "source": [
    "### srtm dem processing  \n",
    "including dem mosaic, downsampling and clipping.\n"
   ]
  },
  {
   "cell_type": "code",
   "execution_count": 1,
   "metadata": {},
   "outputs": [],
   "source": [
    "import os\n",
    "import rasterio as rio\n",
    "import geopandas as gpd\n",
    "from glob import glob\n",
    "import matplotlib.pyplot as plt\n",
    "from rasterio.merge import merge\n",
    "from rasterio.mask import mask\n",
    "from rasterio.warp import reproject, Resampling\n"
   ]
  },
  {
   "cell_type": "markdown",
   "metadata": {},
   "source": [
    "### Mosaic"
   ]
  },
  {
   "cell_type": "code",
   "execution_count": 3,
   "metadata": {},
   "outputs": [],
   "source": [
    "paths_dem_ls = glob('data/dem/tiles/*')\n",
    "path_mosaic = 'data/dem/hma_SRTMGL3_90m.tif'\n",
    "\n",
    "src_files_to_mosaic = []\n",
    "for fp in paths_dem_ls:\n",
    "    src = rio.open(fp)\n",
    "    src_files_to_mosaic.append(src)\n",
    "mosaic_arr, mosaic_trans = merge(src_files_to_mosaic)\n",
    "mosaic_meta = src.meta.copy()\n",
    "mosaic_meta.update({\n",
    "    \"height\": mosaic_arr.shape[1],\n",
    "    \"width\": mosaic_arr.shape[2],\n",
    "    \"transform\": mosaic_trans\n",
    "    })\n",
    "\n",
    "# # Write the mosaic raster to disk\n",
    "# with rio.open(path_mosaic, 'w', **mosaic_meta) as dest:\n",
    "#     dest.write(mosaic_arr)\n"
   ]
  },
  {
   "cell_type": "markdown",
   "metadata": {},
   "source": [
    "### Downsampling"
   ]
  },
  {
   "cell_type": "code",
   "execution_count": 3,
   "metadata": {},
   "outputs": [],
   "source": [
    "path_srtm = 'data/dem/hma_SRTMGL3_90m.tif'\n",
    "path_srtm_down = 'data/dem/hma_SRTMGL3_500m.tif' \n",
    "\n",
    "with rio.open(path_srtm) as src:\n",
    "    scale_factor = 500 / 90  \n",
    "    dst_width, dst_height = int(src.width / scale_factor), int(src.height / scale_factor)    \n",
    "    dst_transform = src.transform * src.transform.scale(scale_factor, scale_factor)\n",
    "    dst_meta = src.meta.copy()\n",
    "    dst_meta.update({\n",
    "        \"width\": dst_width,\n",
    "        \"height\": dst_height,\n",
    "        \"transform\": dst_transform})\n",
    "    # with rio.open(path_srtm_down, \"w\", **dst_meta) as dst:\n",
    "    #     reproject(\n",
    "    #         source=rio.band(src, 1),\n",
    "    #         destination=rio.band(dst, 1),\n",
    "    #         src_transform=src.transform,\n",
    "    #         src_crs=src.crs,\n",
    "    #         dst_transform=dst_transform,\n",
    "    #         dst_crs=src.crs,\n",
    "    #         resampling=Resampling.average,  \n",
    "    #     )\n"
   ]
  },
  {
   "cell_type": "markdown",
   "metadata": {},
   "source": [
    "#### clip to hma subregions. "
   ]
  },
  {
   "cell_type": "code",
   "execution_count": 5,
   "metadata": {},
   "outputs": [],
   "source": [
    "path_dem = 'data/dem/hma_SRTMGL3_90m.tif'\n",
    "path_hma_gtng = 'data/hma-extent/HMA/gtng_202307_hma_subregions.gpkg'\n",
    "hma_vec_gdf = gpd.read_file(path_hma_gtng)\n",
    "\n",
    "with rio.open(path_dem) as src:\n",
    "    if hma_vec_gdf.crs != src.crs: \n",
    "        hma_vec_gdf = hma_vec_gdf.to_crs(src.crs)      \n",
    "    for idx, row in hma_vec_gdf.iterrows():\n",
    "        geom = row.geometry\n",
    "        clipped_arr, clipped_transform = mask(dataset=src, shapes = [geom], \n",
    "                                              crop=True, all_touched=True)\n",
    "        meta = src.meta.copy()\n",
    "        meta.update({\n",
    "            \"height\": clipped_arr.shape[1],\n",
    "            \"width\": clipped_arr.shape[2],\n",
    "            \"transform\": clipped_transform})\n",
    "        # ## save to path\n",
    "        # name_subregion = row['full_name'].split(' (')[0].replace(' ', '_').lower()\n",
    "        # path_save = f\"data/dem/hma-subregions/dem_90m_{name_subregion}.tif\"\n",
    "        # if os.path.exists(path_save): os.remove(path_save)\n",
    "        # with rio.open(path_save, \"w\", **meta) as dst:\n",
    "        #     print(dst.bounds)\n",
    "        #     dst.write(clipped_arr)\n",
    "        # print(f\"saved to: {path_save}\")\n"
   ]
  }
 ],
 "metadata": {
  "kernelspec": {
   "display_name": "hma-data",
   "language": "python",
   "name": "python3"
  },
  "language_info": {
   "codemirror_mode": {
    "name": "ipython",
    "version": 3
   },
   "file_extension": ".py",
   "mimetype": "text/x-python",
   "name": "python",
   "nbconvert_exporter": "python",
   "pygments_lexer": "ipython3",
   "version": "3.10.18"
  }
 },
 "nbformat": 4,
 "nbformat_minor": 2
}
