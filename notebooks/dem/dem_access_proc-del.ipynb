{
 "cells": [
  {
   "cell_type": "markdown",
   "metadata": {},
   "source": [
    "### DEM download and precessing\n",
    "#### 1. srtm dem downloading; \n",
    "#### 2. srtm dem processing, including dem mosaic and downsampling.\n"
   ]
  },
  {
   "cell_type": "code",
   "execution_count": 58,
   "metadata": {},
   "outputs": [],
   "source": [
    "import os\n",
    "import rasterio as rio\n",
    "import geopandas as gpd\n",
    "from glob import glob\n",
    "from utils.get_dem import get_dem\n",
    "import matplotlib.pyplot as plt\n",
    "from rasterio.merge import merge\n",
    "from rasterio.mask import mask\n",
    "from rasterio.warp import reproject, Resampling\n"
   ]
  },
  {
   "cell_type": "code",
   "execution_count": 59,
   "metadata": {},
   "outputs": [
    {
     "data": {
      "text/html": [
       "<div>\n",
       "<style scoped>\n",
       "    .dataframe tbody tr th:only-of-type {\n",
       "        vertical-align: middle;\n",
       "    }\n",
       "\n",
       "    .dataframe tbody tr th {\n",
       "        vertical-align: top;\n",
       "    }\n",
       "\n",
       "    .dataframe thead th {\n",
       "        text-align: right;\n",
       "    }\n",
       "</style>\n",
       "<table border=\"1\" class=\"dataframe\">\n",
       "  <thead>\n",
       "    <tr style=\"text-align: right;\">\n",
       "      <th></th>\n",
       "      <th>o1region</th>\n",
       "      <th>o2region</th>\n",
       "      <th>full_name</th>\n",
       "      <th>long_code</th>\n",
       "      <th>geometry</th>\n",
       "    </tr>\n",
       "  </thead>\n",
       "  <tbody>\n",
       "    <tr>\n",
       "      <th>0</th>\n",
       "      <td>13</td>\n",
       "      <td>13-01</td>\n",
       "      <td>Hissar Alay</td>\n",
       "      <td>13-01_hissar_alay</td>\n",
       "      <td>MULTIPOLYGON (((70 40.7, 71 40.7, 72.01 40.7, ...</td>\n",
       "    </tr>\n",
       "    <tr>\n",
       "      <th>1</th>\n",
       "      <td>13</td>\n",
       "      <td>13-02</td>\n",
       "      <td>Pamir (Safed Khirs / West Tarim)</td>\n",
       "      <td>13-02_pamir_safed_khirs_west_tarim</td>\n",
       "      <td>MULTIPOLYGON (((74.35547 39.80418, 74.37581 39...</td>\n",
       "    </tr>\n",
       "    <tr>\n",
       "      <th>2</th>\n",
       "      <td>13</td>\n",
       "      <td>13-03</td>\n",
       "      <td>West Tien Shan</td>\n",
       "      <td>13-03_west_tien_shan</td>\n",
       "      <td>MULTIPOLYGON (((77.99937 43.69747, 78.5 43.749...</td>\n",
       "    </tr>\n",
       "    <tr>\n",
       "      <th>3</th>\n",
       "      <td>13</td>\n",
       "      <td>13-04</td>\n",
       "      <td>East Tien Shan (Dzhungaria)</td>\n",
       "      <td>13-04_east_tien_shan_dzhungaria</td>\n",
       "      <td>MULTIPOLYGON (((78.5 43.74989, 78.5 44, 78.5 4...</td>\n",
       "    </tr>\n",
       "    <tr>\n",
       "      <th>4</th>\n",
       "      <td>13</td>\n",
       "      <td>13-05</td>\n",
       "      <td>West Kun Lun</td>\n",
       "      <td>13-05_west_kun_lun</td>\n",
       "      <td>MULTIPOLYGON (((76.49466 37.98237, 76.50852 37...</td>\n",
       "    </tr>\n",
       "  </tbody>\n",
       "</table>\n",
       "</div>"
      ],
      "text/plain": [
       "  o1region o2region                         full_name  \\\n",
       "0       13    13-01                       Hissar Alay   \n",
       "1       13    13-02  Pamir (Safed Khirs / West Tarim)   \n",
       "2       13    13-03                    West Tien Shan   \n",
       "3       13    13-04       East Tien Shan (Dzhungaria)   \n",
       "4       13    13-05                      West Kun Lun   \n",
       "\n",
       "                            long_code  \\\n",
       "0                   13-01_hissar_alay   \n",
       "1  13-02_pamir_safed_khirs_west_tarim   \n",
       "2                13-03_west_tien_shan   \n",
       "3     13-04_east_tien_shan_dzhungaria   \n",
       "4                  13-05_west_kun_lun   \n",
       "\n",
       "                                            geometry  \n",
       "0  MULTIPOLYGON (((70 40.7, 71 40.7, 72.01 40.7, ...  \n",
       "1  MULTIPOLYGON (((74.35547 39.80418, 74.37581 39...  \n",
       "2  MULTIPOLYGON (((77.99937 43.69747, 78.5 43.749...  \n",
       "3  MULTIPOLYGON (((78.5 43.74989, 78.5 44, 78.5 4...  \n",
       "4  MULTIPOLYGON (((76.49466 37.98237, 76.50852 37...  "
      ]
     },
     "execution_count": 59,
     "metadata": {},
     "output_type": "execute_result"
    }
   ],
   "source": [
    "path_hma_gtng = 'data/hma-extent/HMA/gtng_202307_hma_subregions.gpkg'\n",
    "hma_vec_gdf = gpd.read_file(path_hma_gtng)\n",
    "hma_vec_gdf.head()\n"
   ]
  },
  {
   "cell_type": "markdown",
   "metadata": {},
   "source": [
    "#### **Download SRTM DEM**\n"
   ]
  },
  {
   "cell_type": "code",
   "execution_count": 3,
   "metadata": {},
   "outputs": [
    {
     "name": "stdout",
     "output_type": "stream",
     "text": [
      "Ouput dem: dem/tiles/SRTMGL3_60_20.tif Region: [59.9, 65.1, 19.9, 25.1]\n",
      "Ouput dem: dem/tiles/SRTMGL3_60_25.tif Region: [59.9, 65.1, 24.9, 30.1]\n",
      "Ouput dem: dem/tiles/SRTMGL3_60_30.tif Region: [59.9, 65.1, 29.9, 35.1]\n",
      "Ouput dem: dem/tiles/SRTMGL3_60_35.tif Region: [59.9, 65.1, 34.9, 40.1]\n",
      "Ouput dem: dem/tiles/SRTMGL3_60_40.tif Region: [59.9, 65.1, 39.9, 45.1]\n",
      "Ouput dem: dem/tiles/SRTMGL3_60_45.tif Region: [59.9, 65.1, 44.9, 50.1]\n",
      "Ouput dem: dem/tiles/SRTMGL3_65_20.tif Region: [64.9, 70.1, 19.9, 25.1]\n",
      "Ouput dem: dem/tiles/SRTMGL3_65_25.tif Region: [64.9, 70.1, 24.9, 30.1]\n",
      "Ouput dem: dem/tiles/SRTMGL3_65_30.tif Region: [64.9, 70.1, 29.9, 35.1]\n",
      "Ouput dem: dem/tiles/SRTMGL3_65_35.tif Region: [64.9, 70.1, 34.9, 40.1]\n",
      "Ouput dem: dem/tiles/SRTMGL3_65_40.tif Region: [64.9, 70.1, 39.9, 45.1]\n",
      "Ouput dem: dem/tiles/SRTMGL3_65_45.tif Region: [64.9, 70.1, 44.9, 50.1]\n",
      "Ouput dem: dem/tiles/SRTMGL3_70_20.tif Region: [69.9, 75.1, 19.9, 25.1]\n",
      "Ouput dem: dem/tiles/SRTMGL3_70_25.tif Region: [69.9, 75.1, 24.9, 30.1]\n",
      "Ouput dem: dem/tiles/SRTMGL3_70_30.tif Region: [69.9, 75.1, 29.9, 35.1]\n",
      "Ouput dem: dem/tiles/SRTMGL3_70_35.tif Region: [69.9, 75.1, 34.9, 40.1]\n",
      "Ouput dem: dem/tiles/SRTMGL3_70_40.tif Region: [69.9, 75.1, 39.9, 45.1]\n",
      "Ouput dem: dem/tiles/SRTMGL3_70_45.tif Region: [69.9, 75.1, 44.9, 50.1]\n",
      "Ouput dem: dem/tiles/SRTMGL3_75_20.tif Region: [74.9, 80.1, 19.9, 25.1]\n",
      "Ouput dem: dem/tiles/SRTMGL3_75_25.tif Region: [74.9, 80.1, 24.9, 30.1]\n",
      "Ouput dem: dem/tiles/SRTMGL3_75_30.tif Region: [74.9, 80.1, 29.9, 35.1]\n",
      "Ouput dem: dem/tiles/SRTMGL3_75_35.tif Region: [74.9, 80.1, 34.9, 40.1]\n",
      "Ouput dem: dem/tiles/SRTMGL3_75_40.tif Region: [74.9, 80.1, 39.9, 45.1]\n",
      "Ouput dem: dem/tiles/SRTMGL3_75_45.tif Region: [74.9, 80.1, 44.9, 50.1]\n",
      "Ouput dem: dem/tiles/SRTMGL3_80_20.tif Region: [79.9, 85.1, 19.9, 25.1]\n",
      "Ouput dem: dem/tiles/SRTMGL3_80_25.tif Region: [79.9, 85.1, 24.9, 30.1]\n",
      "Ouput dem: dem/tiles/SRTMGL3_80_30.tif Region: [79.9, 85.1, 29.9, 35.1]\n",
      "Ouput dem: dem/tiles/SRTMGL3_80_35.tif Region: [79.9, 85.1, 34.9, 40.1]\n",
      "Ouput dem: dem/tiles/SRTMGL3_80_40.tif Region: [79.9, 85.1, 39.9, 45.1]\n",
      "Ouput dem: dem/tiles/SRTMGL3_80_45.tif Region: [79.9, 85.1, 44.9, 50.1]\n",
      "Ouput dem: dem/tiles/SRTMGL3_85_20.tif Region: [84.9, 90.1, 19.9, 25.1]\n",
      "Ouput dem: dem/tiles/SRTMGL3_85_25.tif Region: [84.9, 90.1, 24.9, 30.1]\n",
      "Ouput dem: dem/tiles/SRTMGL3_85_30.tif Region: [84.9, 90.1, 29.9, 35.1]\n",
      "Ouput dem: dem/tiles/SRTMGL3_85_35.tif Region: [84.9, 90.1, 34.9, 40.1]\n",
      "Ouput dem: dem/tiles/SRTMGL3_85_40.tif Region: [84.9, 90.1, 39.9, 45.1]\n",
      "Ouput dem: dem/tiles/SRTMGL3_85_45.tif Region: [84.9, 90.1, 44.9, 50.1]\n",
      "Ouput dem: dem/tiles/SRTMGL3_90_20.tif Region: [89.9, 95.1, 19.9, 25.1]\n",
      "Ouput dem: dem/tiles/SRTMGL3_90_25.tif Region: [89.9, 95.1, 24.9, 30.1]\n",
      "Ouput dem: dem/tiles/SRTMGL3_90_30.tif Region: [89.9, 95.1, 29.9, 35.1]\n",
      "Ouput dem: dem/tiles/SRTMGL3_90_35.tif Region: [89.9, 95.1, 34.9, 40.1]\n",
      "Ouput dem: dem/tiles/SRTMGL3_90_40.tif Region: [89.9, 95.1, 39.9, 45.1]\n",
      "Ouput dem: dem/tiles/SRTMGL3_90_45.tif Region: [89.9, 95.1, 44.9, 50.1]\n",
      "Ouput dem: dem/tiles/SRTMGL3_95_20.tif Region: [94.9, 100.1, 19.9, 25.1]\n",
      "Ouput dem: dem/tiles/SRTMGL3_95_25.tif Region: [94.9, 100.1, 24.9, 30.1]\n",
      "Ouput dem: dem/tiles/SRTMGL3_95_30.tif Region: [94.9, 100.1, 29.9, 35.1]\n",
      "Ouput dem: dem/tiles/SRTMGL3_95_35.tif Region: [94.9, 100.1, 34.9, 40.1]\n",
      "Ouput dem: dem/tiles/SRTMGL3_95_40.tif Region: [94.9, 100.1, 39.9, 45.1]\n",
      "Ouput dem: dem/tiles/SRTMGL3_95_45.tif Region: [94.9, 100.1, 44.9, 50.1]\n",
      "Ouput dem: dem/tiles/SRTMGL3_100_20.tif Region: [99.9, 105.1, 19.9, 25.1]\n",
      "Ouput dem: dem/tiles/SRTMGL3_100_25.tif Region: [99.9, 105.1, 24.9, 30.1]\n",
      "Ouput dem: dem/tiles/SRTMGL3_100_30.tif Region: [99.9, 105.1, 29.9, 35.1]\n",
      "Ouput dem: dem/tiles/SRTMGL3_100_35.tif Region: [99.9, 105.1, 34.9, 40.1]\n",
      "Ouput dem: dem/tiles/SRTMGL3_100_40.tif Region: [99.9, 105.1, 39.9, 45.1]\n",
      "Ouput dem: dem/tiles/SRTMGL3_100_45.tif Region: [99.9, 105.1, 44.9, 50.1]\n",
      "Ouput dem: dem/tiles/SRTMGL3_105_20.tif Region: [104.9, 110.1, 19.9, 25.1]\n",
      "Ouput dem: dem/tiles/SRTMGL3_105_25.tif Region: [104.9, 110.1, 24.9, 30.1]\n",
      "Ouput dem: dem/tiles/SRTMGL3_105_30.tif Region: [104.9, 110.1, 29.9, 35.1]\n",
      "Ouput dem: dem/tiles/SRTMGL3_105_35.tif Region: [104.9, 110.1, 34.9, 40.1]\n",
      "Ouput dem: dem/tiles/SRTMGL3_105_40.tif Region: [104.9, 110.1, 39.9, 45.1]\n",
      "Ouput dem: dem/tiles/SRTMGL3_105_45.tif Region: [104.9, 110.1, 44.9, 50.1]\n"
     ]
    }
   ],
   "source": [
    "# hma_bounds = ([75, 76, 34, 35])  ### west, east, south, north\n",
    "lonmin, lonmax, latmin, latmax = 60, 110, 20, 50\n",
    "for lon in range(lonmin, lonmax, 5):    \n",
    "    for lat in range(latmin, latmax, 5):        \n",
    "        dem_out = 'dem/tiles/SRTMGL3_{}_{}.tif'.format(lon, lat)\n",
    "        region = [lon-0.1, lon+5+0.1, lat-0.1, lat+5+0.1]\n",
    "        print('Ouput dem:', dem_out, 'Region:',  region)\n",
    "        # get_dem(demtype='SRTMGL3', bounds=region, path_out=dem_out)\n"
   ]
  },
  {
   "cell_type": "markdown",
   "metadata": {},
   "source": [
    "### Mosaic"
   ]
  },
  {
   "cell_type": "code",
   "execution_count": 4,
   "metadata": {},
   "outputs": [],
   "source": [
    "paths_dem_ls = glob('data/dem/tiles/*')\n",
    "path_mosaic = 'data/dem/hma_SRTMGL3_90m.tif'\n",
    "\n",
    "src_files_to_mosaic = []\n",
    "for fp in paths_dem_ls:\n",
    "    src = rio.open(fp)\n",
    "    src_files_to_mosaic.append(src)\n",
    "mosaic_arr, mosaic_trans = merge(src_files_to_mosaic)\n",
    "mosaic_meta = src.meta.copy()\n",
    "mosaic_meta.update({\n",
    "    \"height\": mosaic_arr.shape[1],\n",
    "    \"width\": mosaic_arr.shape[2],\n",
    "    \"transform\": mosaic_trans\n",
    "    })\n",
    "\n",
    "# Write the mosaic raster to disk\n",
    "with rio.open(path_mosaic, 'w', **mosaic_meta) as dest:\n",
    "    dest.write(mosaic_arr)\n"
   ]
  },
  {
   "cell_type": "markdown",
   "metadata": {},
   "source": [
    "### Downsampling"
   ]
  },
  {
   "cell_type": "code",
   "execution_count": 5,
   "metadata": {},
   "outputs": [],
   "source": [
    "path_srtm = 'data/dem/hma_SRTMGL3_90m.tif'\n",
    "path_srtm_down = 'data/dem/hma_SRTMGL3_500m.tif' \n",
    "\n",
    "with rio.open(path_srtm) as src:\n",
    "    scale_factor = 500 / 90  \n",
    "    dst_width, dst_height = int(src.width / scale_factor), int(src.height / scale_factor)    \n",
    "    dst_transform = src.transform * src.transform.scale(scale_factor, scale_factor)\n",
    "    dst_meta = src.meta.copy()\n",
    "    dst_meta.update({\n",
    "        \"width\": dst_width,\n",
    "        \"height\": dst_height,\n",
    "        \"transform\": dst_transform})\n",
    "    with rio.open(path_srtm_down, \"w\", **dst_meta) as dst:\n",
    "        reproject(\n",
    "            source=rio.band(src, 1),\n",
    "            destination=rio.band(dst, 1),\n",
    "            src_transform=src.transform,\n",
    "            src_crs=src.crs,\n",
    "            dst_transform=dst_transform,\n",
    "            dst_crs=src.crs,\n",
    "            resampling=Resampling.average,  \n",
    "        )\n"
   ]
  },
  {
   "cell_type": "markdown",
   "metadata": {},
   "source": [
    "#### clip to hma subregions. "
   ]
  },
  {
   "cell_type": "code",
   "execution_count": null,
   "metadata": {},
   "outputs": [],
   "source": [
    "\n",
    "        "
   ]
  },
  {
   "cell_type": "code",
   "execution_count": 67,
   "metadata": {},
   "outputs": [
    {
     "name": "stdout",
     "output_type": "stream",
     "text": [
      "(67.0, 38.0, 74.65889614, 40.7334286100001)\n",
      "BoundingBox(left=66.99958333327722, bottom=37.99958333333833, right=74.65958333327548, top=40.73375000000438)\n",
      "saved to: data/dem/hma-subregions/dem_90m_hissar_alay.tif\n"
     ]
    }
   ],
   "source": [
    "path_dem = 'data/dem/hma_SRTMGL3_90m.tif'\n",
    "with rio.open(path_dem) as src:\n",
    "    if hma_vec_gdf.crs != src.crs: \n",
    "        hma_vec_gdf = hma_vec_gdf.to_crs(src.crs)      \n",
    "    for idx, row in hma_vec_gdf.iterrows():\n",
    "        geom = row.geometry\n",
    "        print(geom.bounds)\n",
    "        clipped_arr, clipped_transform = mask(dataset=src, shapes = [geom], \n",
    "                                              crop=True, all_touched=True)\n",
    "        meta = src.meta.copy()\n",
    "        meta.update({\n",
    "            \"height\": clipped_arr.shape[1],\n",
    "            \"width\": clipped_arr.shape[2],\n",
    "            \"transform\": clipped_transform})\n",
    "        ## save to path\n",
    "        name_subregion = row['full_name'].split(' (')[0].replace(' ', '_').lower()\n",
    "        path_save = f\"data/dem/hma-subregions/dem_90m_{name_subregion}.tif\"\n",
    "        if os.path.exists(path_save): os.remove(path_save)\n",
    "        with rio.open(path_save, \"w\", **meta) as dst:\n",
    "            print(dst.bounds)\n",
    "            dst.write(clipped_arr)\n",
    "        print(f\"saved to: {path_save}\")\n",
    "        break\n"
   ]
  },
  {
   "cell_type": "code",
   "execution_count": 50,
   "metadata": {},
   "outputs": [],
   "source": [
    "# # # ## downsampling\n",
    "# path_srtm = 'dem/hma_SRTMGL3.tif'\n",
    "# path_srtm_down = 'dem/hma_SRTMGL3_300m.tif' \n",
    "# !gdal_translate -outsize 30% 30% -r average $path_srtm $path_srtm_down\n"
   ]
  },
  {
   "cell_type": "markdown",
   "metadata": {},
   "source": [
    "### Dem transform\n",
    "#### Shaded relief map\n"
   ]
  },
  {
   "cell_type": "code",
   "execution_count": 51,
   "metadata": {},
   "outputs": [],
   "source": [
    "# ## Generate a shaded relief map \n",
    "# path_dem_shade_relif = 'dem/hma_srtmgl3_down_shade_relif.tif'\n",
    "# path_dem = 'dem/hma_SRTMGL3_down.tif'\n",
    "# !gdaldem hillshade $path_dem $path_dem_shade_relif\n",
    "\n"
   ]
  },
  {
   "cell_type": "markdown",
   "metadata": {},
   "source": [
    "### Check the dem image."
   ]
  },
  {
   "cell_type": "code",
   "execution_count": 52,
   "metadata": {},
   "outputs": [],
   "source": [
    "# ## Check\n",
    "# srtm_down = readTiff(path_srtm_down)\n",
    "# cmap = plt.cm.terrain\n",
    "# plt.figure(figsize=(8, 7))\n",
    "# plt.subplot(1,1,1)\n",
    "# plt.title('downsampled SRTM data')\n",
    "# plt.imshow(srtm_down.array, cmap=cmap, clim=[0, 8000], alpha=1, extent=srtm_down.geoextent)\n",
    "# plt.colorbar(fraction=0.0320, pad=0.02, label='Elevation (m)', shrink=0.65)\n",
    "\n"
   ]
  },
  {
   "cell_type": "code",
   "execution_count": 53,
   "metadata": {},
   "outputs": [],
   "source": [
    "# ## check shade relif map\n",
    "# srtm_down_shade_relif = readTiff(path_dem_shade_relif)\n",
    "# cmap = plt.cm.terrain\n",
    "# plt.figure(figsize=(8, 7))\n",
    "# plt.subplot(1,1,1)\n",
    "# plt.title('downsampled SRTM shaded relif map')\n",
    "# plt.imshow(srtm_down_shade_relif.array, cmap=cmap, \\\n",
    "#                   clim=[0, 200], alpha=1, extent=srtm_down_shade_relif.geoextent)\n",
    "# plt.colorbar(fraction=0.0320, pad=0.02, label='Elevation (m)')\n"
   ]
  }
 ],
 "metadata": {
  "kernelspec": {
   "display_name": "hma-data",
   "language": "python",
   "name": "python3"
  },
  "language_info": {
   "codemirror_mode": {
    "name": "ipython",
    "version": 3
   },
   "file_extension": ".py",
   "mimetype": "text/x-python",
   "name": "python",
   "nbconvert_exporter": "python",
   "pygments_lexer": "ipython3",
   "version": "3.10.18"
  }
 },
 "nbformat": 4,
 "nbformat_minor": 2
}
