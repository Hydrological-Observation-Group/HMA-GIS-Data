{
 "cells": [
  {
   "cell_type": "markdown",
   "id": "fc378c22",
   "metadata": {},
   "source": [
    "### dem statistics"
   ]
  },
  {
   "cell_type": "code",
   "execution_count": 4,
   "id": "8ebff6ac",
   "metadata": {},
   "outputs": [],
   "source": [
    "import rasterio as rio\n",
    "import numpy as np\n",
    "import geopandas as gpd\n",
    "from rasterio.enums import Resampling\n",
    "from rasterstats import zonal_stats\n"
   ]
  },
  {
   "cell_type": "code",
   "execution_count": 5,
   "id": "3f4c84d8",
   "metadata": {},
   "outputs": [],
   "source": [
    "path_dem = 'data/dem/hma_SRTMGL3_90m.tif'\n",
    "path_hma_gtng = 'data/hma-extent/HMA/hma_gtng_202307_subregions.gpkg'\n"
   ]
  },
  {
   "cell_type": "code",
   "execution_count": null,
   "id": "5f986cc7",
   "metadata": {},
   "outputs": [],
   "source": [
    "## read hma and glacier extent\n",
    "hma_gtng_gdf = gpd.read_file(path_hma_gtng)\n",
    "\n"
   ]
  },
  {
   "cell_type": "code",
   "execution_count": 32,
   "id": "c1eeb4f4",
   "metadata": {},
   "outputs": [],
   "source": [
    "dem_stats = zonal_stats(\n",
    "  vectors=hma_gtng_gdf,\n",
    "  raster=path_dem,\n",
    "  stats=['mean', 'std'],\n",
    "  nodata=-9999,\n",
    "  geojson_out=True\n",
    "  )\n",
    "\n"
   ]
  },
  {
   "cell_type": "code",
   "execution_count": null,
   "id": "cfb08823",
   "metadata": {},
   "outputs": [],
   "source": [
    "## convert to GeoDataFrame\n",
    "dem_stats_gdf = gpd.GeoDataFrame.from_features(dem_stats, crs=hma_gtng_gdf.crs)\n",
    "dem_stats_gdf = dem_stats_gdf[['o2region', 'full_name', 'mean', 'std', 'geometry']]\n",
    "dem_stats_gdf.head(5)\n",
    "# dem_stats_gdf.to_file('data/dem/dem_stats.gpkg', driver='GPKG')\n"
   ]
  },
  {
   "cell_type": "code",
   "execution_count": null,
   "id": "eb540959",
   "metadata": {},
   "outputs": [],
   "source": [
    "\n"
   ]
  },
  {
   "cell_type": "code",
   "execution_count": null,
   "id": "e81947c9",
   "metadata": {},
   "outputs": [],
   "source": [
    "\n",
    "\n"
   ]
  }
 ],
 "metadata": {
  "kernelspec": {
   "display_name": "hma-data",
   "language": "python",
   "name": "python3"
  },
  "language_info": {
   "codemirror_mode": {
    "name": "ipython",
    "version": 3
   },
   "file_extension": ".py",
   "mimetype": "text/x-python",
   "name": "python",
   "nbconvert_exporter": "python",
   "pygments_lexer": "ipython3",
   "version": "3.10.18"
  }
 },
 "nbformat": 4,
 "nbformat_minor": 5
}
