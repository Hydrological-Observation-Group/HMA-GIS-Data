{
 "cells": [
  {
   "cell_type": "markdown",
   "metadata": {},
   "source": [
    "### srtm dem downloading; \n"
   ]
  },
  {
   "cell_type": "code",
   "execution_count": null,
   "metadata": {},
   "outputs": [],
   "source": [
    "import geopandas as gpd\n",
    "from utils.get_dem import get_dem\n"
   ]
  },
  {
   "cell_type": "code",
   "execution_count": 59,
   "metadata": {},
   "outputs": [
    {
     "data": {
      "text/html": [
       "<div>\n",
       "<style scoped>\n",
       "    .dataframe tbody tr th:only-of-type {\n",
       "        vertical-align: middle;\n",
       "    }\n",
       "\n",
       "    .dataframe tbody tr th {\n",
       "        vertical-align: top;\n",
       "    }\n",
       "\n",
       "    .dataframe thead th {\n",
       "        text-align: right;\n",
       "    }\n",
       "</style>\n",
       "<table border=\"1\" class=\"dataframe\">\n",
       "  <thead>\n",
       "    <tr style=\"text-align: right;\">\n",
       "      <th></th>\n",
       "      <th>o1region</th>\n",
       "      <th>o2region</th>\n",
       "      <th>full_name</th>\n",
       "      <th>long_code</th>\n",
       "      <th>geometry</th>\n",
       "    </tr>\n",
       "  </thead>\n",
       "  <tbody>\n",
       "    <tr>\n",
       "      <th>0</th>\n",
       "      <td>13</td>\n",
       "      <td>13-01</td>\n",
       "      <td>Hissar Alay</td>\n",
       "      <td>13-01_hissar_alay</td>\n",
       "      <td>MULTIPOLYGON (((70 40.7, 71 40.7, 72.01 40.7, ...</td>\n",
       "    </tr>\n",
       "    <tr>\n",
       "      <th>1</th>\n",
       "      <td>13</td>\n",
       "      <td>13-02</td>\n",
       "      <td>Pamir (Safed Khirs / West Tarim)</td>\n",
       "      <td>13-02_pamir_safed_khirs_west_tarim</td>\n",
       "      <td>MULTIPOLYGON (((74.35547 39.80418, 74.37581 39...</td>\n",
       "    </tr>\n",
       "    <tr>\n",
       "      <th>2</th>\n",
       "      <td>13</td>\n",
       "      <td>13-03</td>\n",
       "      <td>West Tien Shan</td>\n",
       "      <td>13-03_west_tien_shan</td>\n",
       "      <td>MULTIPOLYGON (((77.99937 43.69747, 78.5 43.749...</td>\n",
       "    </tr>\n",
       "    <tr>\n",
       "      <th>3</th>\n",
       "      <td>13</td>\n",
       "      <td>13-04</td>\n",
       "      <td>East Tien Shan (Dzhungaria)</td>\n",
       "      <td>13-04_east_tien_shan_dzhungaria</td>\n",
       "      <td>MULTIPOLYGON (((78.5 43.74989, 78.5 44, 78.5 4...</td>\n",
       "    </tr>\n",
       "    <tr>\n",
       "      <th>4</th>\n",
       "      <td>13</td>\n",
       "      <td>13-05</td>\n",
       "      <td>West Kun Lun</td>\n",
       "      <td>13-05_west_kun_lun</td>\n",
       "      <td>MULTIPOLYGON (((76.49466 37.98237, 76.50852 37...</td>\n",
       "    </tr>\n",
       "  </tbody>\n",
       "</table>\n",
       "</div>"
      ],
      "text/plain": [
       "  o1region o2region                         full_name  \\\n",
       "0       13    13-01                       Hissar Alay   \n",
       "1       13    13-02  Pamir (Safed Khirs / West Tarim)   \n",
       "2       13    13-03                    West Tien Shan   \n",
       "3       13    13-04       East Tien Shan (Dzhungaria)   \n",
       "4       13    13-05                      West Kun Lun   \n",
       "\n",
       "                            long_code  \\\n",
       "0                   13-01_hissar_alay   \n",
       "1  13-02_pamir_safed_khirs_west_tarim   \n",
       "2                13-03_west_tien_shan   \n",
       "3     13-04_east_tien_shan_dzhungaria   \n",
       "4                  13-05_west_kun_lun   \n",
       "\n",
       "                                            geometry  \n",
       "0  MULTIPOLYGON (((70 40.7, 71 40.7, 72.01 40.7, ...  \n",
       "1  MULTIPOLYGON (((74.35547 39.80418, 74.37581 39...  \n",
       "2  MULTIPOLYGON (((77.99937 43.69747, 78.5 43.749...  \n",
       "3  MULTIPOLYGON (((78.5 43.74989, 78.5 44, 78.5 4...  \n",
       "4  MULTIPOLYGON (((76.49466 37.98237, 76.50852 37...  "
      ]
     },
     "execution_count": 59,
     "metadata": {},
     "output_type": "execute_result"
    }
   ],
   "source": [
    "path_hma_gtng = 'data/hma-extent/HMA/gtng_202307_hma_subregions.gpkg'\n",
    "hma_vec_gdf = gpd.read_file(path_hma_gtng)\n",
    "hma_vec_gdf.head()\n"
   ]
  },
  {
   "cell_type": "markdown",
   "metadata": {},
   "source": [
    "#### **Download SRTM DEM**\n"
   ]
  },
  {
   "cell_type": "code",
   "execution_count": 3,
   "metadata": {},
   "outputs": [
    {
     "name": "stdout",
     "output_type": "stream",
     "text": [
      "Ouput dem: dem/tiles/SRTMGL3_60_20.tif Region: [59.9, 65.1, 19.9, 25.1]\n",
      "Ouput dem: dem/tiles/SRTMGL3_60_25.tif Region: [59.9, 65.1, 24.9, 30.1]\n",
      "Ouput dem: dem/tiles/SRTMGL3_60_30.tif Region: [59.9, 65.1, 29.9, 35.1]\n",
      "Ouput dem: dem/tiles/SRTMGL3_60_35.tif Region: [59.9, 65.1, 34.9, 40.1]\n",
      "Ouput dem: dem/tiles/SRTMGL3_60_40.tif Region: [59.9, 65.1, 39.9, 45.1]\n",
      "Ouput dem: dem/tiles/SRTMGL3_60_45.tif Region: [59.9, 65.1, 44.9, 50.1]\n",
      "Ouput dem: dem/tiles/SRTMGL3_65_20.tif Region: [64.9, 70.1, 19.9, 25.1]\n",
      "Ouput dem: dem/tiles/SRTMGL3_65_25.tif Region: [64.9, 70.1, 24.9, 30.1]\n",
      "Ouput dem: dem/tiles/SRTMGL3_65_30.tif Region: [64.9, 70.1, 29.9, 35.1]\n",
      "Ouput dem: dem/tiles/SRTMGL3_65_35.tif Region: [64.9, 70.1, 34.9, 40.1]\n",
      "Ouput dem: dem/tiles/SRTMGL3_65_40.tif Region: [64.9, 70.1, 39.9, 45.1]\n",
      "Ouput dem: dem/tiles/SRTMGL3_65_45.tif Region: [64.9, 70.1, 44.9, 50.1]\n",
      "Ouput dem: dem/tiles/SRTMGL3_70_20.tif Region: [69.9, 75.1, 19.9, 25.1]\n",
      "Ouput dem: dem/tiles/SRTMGL3_70_25.tif Region: [69.9, 75.1, 24.9, 30.1]\n",
      "Ouput dem: dem/tiles/SRTMGL3_70_30.tif Region: [69.9, 75.1, 29.9, 35.1]\n",
      "Ouput dem: dem/tiles/SRTMGL3_70_35.tif Region: [69.9, 75.1, 34.9, 40.1]\n",
      "Ouput dem: dem/tiles/SRTMGL3_70_40.tif Region: [69.9, 75.1, 39.9, 45.1]\n",
      "Ouput dem: dem/tiles/SRTMGL3_70_45.tif Region: [69.9, 75.1, 44.9, 50.1]\n",
      "Ouput dem: dem/tiles/SRTMGL3_75_20.tif Region: [74.9, 80.1, 19.9, 25.1]\n",
      "Ouput dem: dem/tiles/SRTMGL3_75_25.tif Region: [74.9, 80.1, 24.9, 30.1]\n",
      "Ouput dem: dem/tiles/SRTMGL3_75_30.tif Region: [74.9, 80.1, 29.9, 35.1]\n",
      "Ouput dem: dem/tiles/SRTMGL3_75_35.tif Region: [74.9, 80.1, 34.9, 40.1]\n",
      "Ouput dem: dem/tiles/SRTMGL3_75_40.tif Region: [74.9, 80.1, 39.9, 45.1]\n",
      "Ouput dem: dem/tiles/SRTMGL3_75_45.tif Region: [74.9, 80.1, 44.9, 50.1]\n",
      "Ouput dem: dem/tiles/SRTMGL3_80_20.tif Region: [79.9, 85.1, 19.9, 25.1]\n",
      "Ouput dem: dem/tiles/SRTMGL3_80_25.tif Region: [79.9, 85.1, 24.9, 30.1]\n",
      "Ouput dem: dem/tiles/SRTMGL3_80_30.tif Region: [79.9, 85.1, 29.9, 35.1]\n",
      "Ouput dem: dem/tiles/SRTMGL3_80_35.tif Region: [79.9, 85.1, 34.9, 40.1]\n",
      "Ouput dem: dem/tiles/SRTMGL3_80_40.tif Region: [79.9, 85.1, 39.9, 45.1]\n",
      "Ouput dem: dem/tiles/SRTMGL3_80_45.tif Region: [79.9, 85.1, 44.9, 50.1]\n",
      "Ouput dem: dem/tiles/SRTMGL3_85_20.tif Region: [84.9, 90.1, 19.9, 25.1]\n",
      "Ouput dem: dem/tiles/SRTMGL3_85_25.tif Region: [84.9, 90.1, 24.9, 30.1]\n",
      "Ouput dem: dem/tiles/SRTMGL3_85_30.tif Region: [84.9, 90.1, 29.9, 35.1]\n",
      "Ouput dem: dem/tiles/SRTMGL3_85_35.tif Region: [84.9, 90.1, 34.9, 40.1]\n",
      "Ouput dem: dem/tiles/SRTMGL3_85_40.tif Region: [84.9, 90.1, 39.9, 45.1]\n",
      "Ouput dem: dem/tiles/SRTMGL3_85_45.tif Region: [84.9, 90.1, 44.9, 50.1]\n",
      "Ouput dem: dem/tiles/SRTMGL3_90_20.tif Region: [89.9, 95.1, 19.9, 25.1]\n",
      "Ouput dem: dem/tiles/SRTMGL3_90_25.tif Region: [89.9, 95.1, 24.9, 30.1]\n",
      "Ouput dem: dem/tiles/SRTMGL3_90_30.tif Region: [89.9, 95.1, 29.9, 35.1]\n",
      "Ouput dem: dem/tiles/SRTMGL3_90_35.tif Region: [89.9, 95.1, 34.9, 40.1]\n",
      "Ouput dem: dem/tiles/SRTMGL3_90_40.tif Region: [89.9, 95.1, 39.9, 45.1]\n",
      "Ouput dem: dem/tiles/SRTMGL3_90_45.tif Region: [89.9, 95.1, 44.9, 50.1]\n",
      "Ouput dem: dem/tiles/SRTMGL3_95_20.tif Region: [94.9, 100.1, 19.9, 25.1]\n",
      "Ouput dem: dem/tiles/SRTMGL3_95_25.tif Region: [94.9, 100.1, 24.9, 30.1]\n",
      "Ouput dem: dem/tiles/SRTMGL3_95_30.tif Region: [94.9, 100.1, 29.9, 35.1]\n",
      "Ouput dem: dem/tiles/SRTMGL3_95_35.tif Region: [94.9, 100.1, 34.9, 40.1]\n",
      "Ouput dem: dem/tiles/SRTMGL3_95_40.tif Region: [94.9, 100.1, 39.9, 45.1]\n",
      "Ouput dem: dem/tiles/SRTMGL3_95_45.tif Region: [94.9, 100.1, 44.9, 50.1]\n",
      "Ouput dem: dem/tiles/SRTMGL3_100_20.tif Region: [99.9, 105.1, 19.9, 25.1]\n",
      "Ouput dem: dem/tiles/SRTMGL3_100_25.tif Region: [99.9, 105.1, 24.9, 30.1]\n",
      "Ouput dem: dem/tiles/SRTMGL3_100_30.tif Region: [99.9, 105.1, 29.9, 35.1]\n",
      "Ouput dem: dem/tiles/SRTMGL3_100_35.tif Region: [99.9, 105.1, 34.9, 40.1]\n",
      "Ouput dem: dem/tiles/SRTMGL3_100_40.tif Region: [99.9, 105.1, 39.9, 45.1]\n",
      "Ouput dem: dem/tiles/SRTMGL3_100_45.tif Region: [99.9, 105.1, 44.9, 50.1]\n",
      "Ouput dem: dem/tiles/SRTMGL3_105_20.tif Region: [104.9, 110.1, 19.9, 25.1]\n",
      "Ouput dem: dem/tiles/SRTMGL3_105_25.tif Region: [104.9, 110.1, 24.9, 30.1]\n",
      "Ouput dem: dem/tiles/SRTMGL3_105_30.tif Region: [104.9, 110.1, 29.9, 35.1]\n",
      "Ouput dem: dem/tiles/SRTMGL3_105_35.tif Region: [104.9, 110.1, 34.9, 40.1]\n",
      "Ouput dem: dem/tiles/SRTMGL3_105_40.tif Region: [104.9, 110.1, 39.9, 45.1]\n",
      "Ouput dem: dem/tiles/SRTMGL3_105_45.tif Region: [104.9, 110.1, 44.9, 50.1]\n"
     ]
    }
   ],
   "source": [
    "# hma_bounds = ([75, 76, 34, 35])  ### west, east, south, north\n",
    "lonmin, lonmax, latmin, latmax = 60, 110, 20, 50\n",
    "for lon in range(lonmin, lonmax, 5):    \n",
    "    for lat in range(latmin, latmax, 5):        \n",
    "        dem_out = 'dem/tiles/SRTMGL3_{}_{}.tif'.format(lon, lat)\n",
    "        region = [lon-0.1, lon+5+0.1, lat-0.1, lat+5+0.1]\n",
    "        print('Ouput dem:', dem_out, 'Region:',  region)\n",
    "        # get_dem(demtype='SRTMGL3', bounds=region, path_out=dem_out)\n"
   ]
  }
 ],
 "metadata": {
  "kernelspec": {
   "display_name": "hma-data",
   "language": "python",
   "name": "python3"
  },
  "language_info": {
   "codemirror_mode": {
    "name": "ipython",
    "version": 3
   },
   "file_extension": ".py",
   "mimetype": "text/x-python",
   "name": "python",
   "nbconvert_exporter": "python",
   "pygments_lexer": "ipython3",
   "version": "3.10.18"
  }
 },
 "nbformat": 4,
 "nbformat_minor": 2
}
