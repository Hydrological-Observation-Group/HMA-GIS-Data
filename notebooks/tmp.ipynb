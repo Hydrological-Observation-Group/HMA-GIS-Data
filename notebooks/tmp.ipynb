{
 "cells": [
  {
   "cell_type": "code",
   "execution_count": 14,
   "metadata": {},
   "outputs": [],
   "source": [
    "from glob import glob\n"
   ]
  },
  {
   "cell_type": "code",
   "execution_count": 4,
   "metadata": {},
   "outputs": [
    {
     "name": "stdout",
     "output_type": "stream",
     "text": [
      "0...10...20...30...40...50...60...70...80...90...100 - done.\n"
     ]
    }
   ],
   "source": [
    "paths_dem_ls = glob('dem/tiles/*')\n",
    "out_file = 'dem/hma_SRTMGL3.tif'\n",
    "!gdal_merge.py -init 0 -o $out_file $paths_dem_str\n"
   ]
  },
  {
   "cell_type": "code",
   "execution_count": 33,
   "metadata": {},
   "outputs": [
    {
     "name": "stdout",
     "output_type": "stream",
     "text": [
      "Input file size is 60240, 36240\n",
      "0...10...20...30...40...50...60...70...80...90...100 - done.\n"
     ]
    }
   ],
   "source": [
    "# ## downsampling\n",
    "path_srtm = 'dem/hma_SRTMGL3.tif'\n",
    "path_srtm_down = 'dem/hma_SRTMGL3_down_16.tif' \n",
    "!gdal_translate -outsize 25% 25% -r average $path_srtm $path_srtm_down\n"
   ]
  },
  {
   "cell_type": "code",
   "execution_count": 18,
   "metadata": {},
   "outputs": [
    {
     "data": {
      "text/plain": [
       "['extents/HMA/hma_bolch2019_subregions/qilian_shan.gpkg',\n",
       " 'extents/HMA/hma_bolch2019_subregions/pamir_alay.gpkg',\n",
       " 'extents/HMA/hma_bolch2019_subregions/western_kunlun_shan.gpkg',\n",
       " 'extents/HMA/hma_bolch2019_subregions/tibetan_interior_mountains.gpkg',\n",
       " 'extents/HMA/hma_bolch2019_subregions/central_himalaya.gpkg',\n",
       " 'extents/HMA/hma_bolch2019_subregions/eastern_himalaya.gpkg',\n",
       " 'extents/HMA/hma_bolch2019_subregions/central_tien_shan.gpkg',\n",
       " 'extents/HMA/hma_bolch2019_subregions/tanggula_shan.gpkg',\n",
       " 'extents/HMA/hma_bolch2019_subregions/karakoram.gpkg',\n",
       " 'extents/HMA/hma_bolch2019_subregions/hengduan_shan.gpkg',\n",
       " 'extents/HMA/hma_bolch2019_subregions/eastern_kunlun_shan.gpkg',\n",
       " 'extents/HMA/hma_bolch2019_subregions/northern_western_tien_shan.gpkg',\n",
       " 'extents/HMA/hma_bolch2019_subregions/nyainqentanglha.gpkg',\n",
       " 'extents/HMA/hma_bolch2019_subregions/altun_shan.gpkg',\n",
       " 'extents/HMA/hma_bolch2019_subregions/eastern_tien_shan.gpkg',\n",
       " 'extents/HMA/hma_bolch2019_subregions/eastern_pamir.gpkg',\n",
       " 'extents/HMA/hma_bolch2019_subregions/western_himalaya.gpkg',\n",
       " 'extents/HMA/hma_bolch2019_subregions/dzhungarsky_alatau.gpkg',\n",
       " 'extents/HMA/hma_bolch2019_subregions/eastern_tibetan_mountains.gpkg',\n",
       " 'extents/HMA/hma_bolch2019_subregions/western_pamir.gpkg',\n",
       " 'extents/HMA/hma_bolch2019_subregions/gangdise_mountains.gpkg',\n",
       " 'extents/HMA/hma_bolch2019_subregions/eastern_hindu_kush.gpkg']"
      ]
     },
     "execution_count": 18,
     "metadata": {},
     "output_type": "execute_result"
    }
   ],
   "source": [
    "paths_subregions = glob('extents/HMA/hma_bolch2019_subregions/*')\n",
    "paths_subregions\n"
   ]
  },
  {
   "cell_type": "code",
   "execution_count": 43,
   "metadata": {},
   "outputs": [
    {
     "name": "stdout",
     "output_type": "stream",
     "text": [
      "Creating output file that is 3068P x 1281L.\n",
      "Processing dem/hma_SRTMGL3_down_16.tif [1/1] : 0...10...20...30...40...50...60...70...80...90...100 - done.\n",
      "Creating output file that is 2366P x 738L.\n",
      "Processing dem/hma_SRTMGL3_down_16.tif [1/1] : 0...10...20...30...40...50...60...70...80...90...100 - done.\n",
      "Creating output file that is 2414P x 1059L.\n",
      "Processing dem/hma_SRTMGL3_down_16.tif [1/1] : 0...10...20...30...40...50...60...70...80...90...100 - done.\n",
      "Creating output file that is 4207P x 1907L.\n",
      "Processing dem/hma_SRTMGL3_down_16.tif [1/1] : 0...10...20...30...40...50...60...70...80...90...100 - done.\n",
      "Creating output file that is 3717P x 1436L.\n",
      "Processing dem/hma_SRTMGL3_down_16.tif [1/1] : 0...10...20...30...40...50...60...70...80...90...100 - done.\n",
      "Creating output file that is 2237P x 960L.\n",
      "Processing dem/hma_SRTMGL3_down_16.tif [1/1] : 0...10...20...30...40...50...60...70...80...90...100 - done.\n",
      "Creating output file that is 3230P x 1088L.\n",
      "Processing dem/hma_SRTMGL3_down_16.tif [1/1] : 0...10...20...30...40...50...60...70...80...90...100 - done.\n",
      "Creating output file that is 2181P x 1296L.\n",
      "Processing dem/hma_SRTMGL3_down_16.tif [1/1] : 0...10...20...30...40...50...60...70...80...90...100 - done.\n",
      "Creating output file that is 2178P x 959L.\n",
      "Processing dem/hma_SRTMGL3_down_16.tif [1/1] : 0...10...20...30...40...50...60...70...80...90...100 - done.\n",
      "Creating output file that is 2898P x 2122L.\n",
      "Processing dem/hma_SRTMGL3_down_16.tif [1/1] : 0...10...20...30...40...50...60...70...80...90...100 - done.\n",
      "Creating output file that is 4514P x 1270L.\n",
      "Processing dem/hma_SRTMGL3_down_16.tif [1/1] : 0...10...20...30...40...50...60...70...80...90...100 - done.\n",
      "Creating output file that is 4002P x 1243L.\n",
      "Processing dem/hma_SRTMGL3_down_16.tif [1/1] : 0...10...20...30...40...50...60...70...80...90...100 - done.\n",
      "Creating output file that is 2486P x 1277L.\n",
      "Processing dem/hma_SRTMGL3_down_16.tif [1/1] : 0...10...20...30...40...50...60...70...80...90...100 - done.\n",
      "Warning 1: Ring Self-intersection at or near point 92.263942750226576 39.376303790470125\n",
      "ERROR 1: Cutline polygon is invalid.\n",
      "Creating output file that is 4408P x 746L.\n",
      "Processing dem/hma_SRTMGL3_down_16.tif [1/1] : 0...10...20...30...40...50...60...70...80...90...100 - done.\n",
      "Creating output file that is 992P x 818L.\n",
      "Processing dem/hma_SRTMGL3_down_16.tif [1/1] : 0...10...20...30...40...50...60...70...80...90...100 - done.\n",
      "Creating output file that is 2277P x 1538L.\n",
      "Processing dem/hma_SRTMGL3_down_16.tif [1/1] : 0...10...20...30...40...50...60...70...80...90...100 - done.\n",
      "Creating output file that is 1285P x 540L.\n",
      "Processing dem/hma_SRTMGL3_down_16.tif [1/1] : 0...10...20...30...40...50...60...70...80...90...100 - done.\n",
      "Creating output file that is 3360P x 1942L.\n",
      "Processing dem/hma_SRTMGL3_down_16.tif [1/1] : 0...10...20...30...40...50...60...70...80...90...100 - done.\n",
      "Creating output file that is 1735P x 943L.\n",
      "Processing dem/hma_SRTMGL3_down_16.tif [1/1] : 0...10...20...30...40...50...60...70...80...90...100 - done.\n",
      "Warning 1: Self-intersection at or near point 80.935597315608575 30.707626957260487\n",
      "ERROR 1: Cutline polygon is invalid.\n",
      "Creating output file that is 1782P x 840L.\n",
      "Processing dem/hma_SRTMGL3_down_16.tif [1/1] : 0...10...20...30...40...50...60...70...80...90...100 - done.\n"
     ]
    }
   ],
   "source": [
    "### ------ subset by .shp file------ \n",
    "path_srtm_down = 'dem/hma_SRTMGL3_down_16.tif' \n",
    "for path_shp in paths_subregions:\n",
    "    name_region = path_shp.split('.')[0].split('/')[-1]\n",
    "    path_out = 'dem/hma-subregions/dem_'+name_region+'.tif'\n",
    "    !gdalwarp -co COMPRESS=LZW -cutline $path_shp -crop_to_cutline $path_srtm_down $path_out\n",
    "\n"
   ]
  }
 ],
 "metadata": {
  "kernelspec": {
   "display_name": "venv",
   "language": "python",
   "name": "python3"
  },
  "language_info": {
   "codemirror_mode": {
    "name": "ipython",
    "version": 3
   },
   "file_extension": ".py",
   "mimetype": "text/x-python",
   "name": "python",
   "nbconvert_exporter": "python",
   "pygments_lexer": "ipython3",
   "version": "3.9.18"
  }
 },
 "nbformat": 4,
 "nbformat_minor": 2
}
