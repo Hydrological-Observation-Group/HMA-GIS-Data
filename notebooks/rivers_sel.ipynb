{
 "cells": [
  {
   "cell_type": "code",
   "execution_count": 1,
   "metadata": {},
   "outputs": [],
   "source": [
    "import warnings\n",
    "warnings.filterwarnings('ignore')\n",
    "import numpy as np\n",
    "import pandas as pd\n",
    "import geopandas as gpd\n",
    "import matplotlib.pyplot as plt\n",
    "from shapely.ops import unary_union\n"
   ]
  },
  {
   "cell_type": "markdown",
   "metadata": {},
   "source": [
    "#### Select major rivers in hma from global rivers."
   ]
  },
  {
   "cell_type": "code",
   "execution_count": null,
   "metadata": {},
   "outputs": [],
   "source": [
    "path_rivers_global = 'data/rivers/major_rivers_global.gpkg'\n",
    "path_rivers_hma = 'data/rivers/rivers_hma.gpkg'\n"
   ]
  },
  {
   "cell_type": "markdown",
   "metadata": {},
   "source": [
    "#### Note:   \n",
    "-- Yarlung Zangbo also know as Brahmaputra;   \n",
    "-- Nu Jiang also know as Salween;   \n",
    "-- Chang Jiang also know as Yangtze River."
   ]
  },
  {
   "cell_type": "code",
   "execution_count": null,
   "metadata": {},
   "outputs": [],
   "source": [
    "### Check data\n",
    "rivers_global = gpd.read_file(path_rivers_global)\n",
    "print(rivers_global.shape)\n",
    "rivers_global.head()\n"
   ]
  },
  {
   "cell_type": "code",
   "execution_count": null,
   "metadata": {},
   "outputs": [],
   "source": [
    "### Rivers in hma\n",
    "rivers_hma = ['Indus', 'Ganges', 'Yarlung Zangbo', 'Mekong', 'Irrawaddy', 'Huang He', \\\n",
    "              'Syr Darya', 'Amu Darya', 'Chang Jiang', 'Xi Jiang', 'Nu Jiang']\n",
    "ids = [int(np.where(rivers_global.NAME==name)[0]) for name in rivers_hma]\n",
    "rivers_hma = rivers_global.loc[ids]\n",
    "print(rivers_hma.shape)\n",
    "rivers_hma.head()\n"
   ]
  },
  {
   "cell_type": "code",
   "execution_count": null,
   "metadata": {},
   "outputs": [],
   "source": [
    "# ### Write out\n",
    "# rivers_hma.to_file(path_rivers_hma, driver='GPKG')\n",
    "\n"
   ]
  },
  {
   "cell_type": "code",
   "execution_count": null,
   "metadata": {},
   "outputs": [],
   "source": []
  }
 ],
 "metadata": {
  "kernelspec": {
   "display_name": "venv-altimetry",
   "language": "python",
   "name": "python3"
  },
  "language_info": {
   "codemirror_mode": {
    "name": "ipython",
    "version": 3
   },
   "file_extension": ".py",
   "mimetype": "text/x-python",
   "name": "python",
   "nbconvert_exporter": "python",
   "pygments_lexer": "ipython3",
   "version": "3.10.13"
  }
 },
 "nbformat": 4,
 "nbformat_minor": 2
}
