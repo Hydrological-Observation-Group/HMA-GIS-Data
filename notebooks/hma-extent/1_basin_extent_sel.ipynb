{
 "cells": [
  {
   "cell_type": "markdown",
   "id": "0a9a19e3",
   "metadata": {},
   "source": [
    "### hma basins selection"
   ]
  },
  {
   "cell_type": "code",
   "execution_count": 1,
   "id": "14dc9acd",
   "metadata": {},
   "outputs": [],
   "source": [
    "import geopandas as gpd\n"
   ]
  },
  {
   "cell_type": "code",
   "execution_count": 2,
   "id": "ef73a494",
   "metadata": {},
   "outputs": [],
   "source": [
    "path_asia_basins_lehner2013_l3 = 'data/hma-extent/basins/asia_Lehner2013_levels/hybas_as_lev03_v1c.gpkg'  ### HydroSHEDS dataset\n",
    "path_asia_basins_lehner2013_l4 = 'data/hma-extent/basins/asia_Lehner2013_levels/hybas_as_lev04_v1c.gpkg'  ### HydroSHEDS dataset\n",
    "path_asia_basins_lehner2013_l5 = 'data/hma-extent/basins/asia_Lehner2013_levels/hybas_as_lev05_v1c.gpkg'  ### HydroSHEDS dataset\n",
    "path_hma_gtng = 'data/hma-extent/HMA/hma_gtng_202307_subregions.gpkg'\n"
   ]
  },
  {
   "cell_type": "code",
   "execution_count": 3,
   "id": "17b08c5e",
   "metadata": {},
   "outputs": [
    {
     "data": {
      "text/html": [
       "<div>\n",
       "<style scoped>\n",
       "    .dataframe tbody tr th:only-of-type {\n",
       "        vertical-align: middle;\n",
       "    }\n",
       "\n",
       "    .dataframe tbody tr th {\n",
       "        vertical-align: top;\n",
       "    }\n",
       "\n",
       "    .dataframe thead th {\n",
       "        text-align: right;\n",
       "    }\n",
       "</style>\n",
       "<table border=\"1\" class=\"dataframe\">\n",
       "  <thead>\n",
       "    <tr style=\"text-align: right;\">\n",
       "      <th></th>\n",
       "      <th>HYBAS_ID</th>\n",
       "      <th>NEXT_DOWN</th>\n",
       "      <th>NEXT_SINK</th>\n",
       "      <th>MAIN_BAS</th>\n",
       "      <th>DIST_SINK</th>\n",
       "      <th>DIST_MAIN</th>\n",
       "      <th>SUB_AREA</th>\n",
       "      <th>UP_AREA</th>\n",
       "      <th>PFAF_ID</th>\n",
       "      <th>ENDO</th>\n",
       "      <th>COAST</th>\n",
       "      <th>ORDER</th>\n",
       "      <th>SORT</th>\n",
       "      <th>geometry</th>\n",
       "    </tr>\n",
       "  </thead>\n",
       "  <tbody>\n",
       "    <tr>\n",
       "      <th>0</th>\n",
       "      <td>4030000010</td>\n",
       "      <td>0</td>\n",
       "      <td>4030000010</td>\n",
       "      <td>4030000010</td>\n",
       "      <td>0.0</td>\n",
       "      <td>0.0</td>\n",
       "      <td>105274.5</td>\n",
       "      <td>105274.5</td>\n",
       "      <td>421</td>\n",
       "      <td>0</td>\n",
       "      <td>1</td>\n",
       "      <td>0</td>\n",
       "      <td>1</td>\n",
       "      <td>MULTIPOLYGON (((138.20694 54.69583, 138.20201 ...</td>\n",
       "    </tr>\n",
       "    <tr>\n",
       "      <th>1</th>\n",
       "      <td>4030000880</td>\n",
       "      <td>0</td>\n",
       "      <td>4030000880</td>\n",
       "      <td>4030000880</td>\n",
       "      <td>0.0</td>\n",
       "      <td>0.0</td>\n",
       "      <td>2238972.5</td>\n",
       "      <td>2238972.5</td>\n",
       "      <td>422</td>\n",
       "      <td>0</td>\n",
       "      <td>0</td>\n",
       "      <td>1</td>\n",
       "      <td>2</td>\n",
       "      <td>MULTIPOLYGON (((115.33333 43.95, 115.33333 43....</td>\n",
       "    </tr>\n",
       "  </tbody>\n",
       "</table>\n",
       "</div>"
      ],
      "text/plain": [
       "     HYBAS_ID  NEXT_DOWN   NEXT_SINK    MAIN_BAS  DIST_SINK  DIST_MAIN  \\\n",
       "0  4030000010          0  4030000010  4030000010        0.0        0.0   \n",
       "1  4030000880          0  4030000880  4030000880        0.0        0.0   \n",
       "\n",
       "    SUB_AREA    UP_AREA  PFAF_ID  ENDO  COAST  ORDER  SORT  \\\n",
       "0   105274.5   105274.5      421     0      1      0     1   \n",
       "1  2238972.5  2238972.5      422     0      0      1     2   \n",
       "\n",
       "                                            geometry  \n",
       "0  MULTIPOLYGON (((138.20694 54.69583, 138.20201 ...  \n",
       "1  MULTIPOLYGON (((115.33333 43.95, 115.33333 43....  "
      ]
     },
     "execution_count": 3,
     "metadata": {},
     "output_type": "execute_result"
    }
   ],
   "source": [
    "hma_gtng = gpd.read_file(path_hma_gtng)\n",
    "hma_gtng_merged = hma_gtng.dissolve()\n",
    "asia_basins_lehner2013_l3 = gpd.read_file(path_asia_basins_lehner2013_l3)\n",
    "asia_basins_lehner2013_l4 = gpd.read_file(path_asia_basins_lehner2013_l4)\n",
    "asia_basins_lehner2013_l5 = gpd.read_file(path_asia_basins_lehner2013_l5)\n",
    "asia_basins_lehner2013_l3.head(2)\n"
   ]
  },
  {
   "cell_type": "code",
   "execution_count": 4,
   "id": "20a29711",
   "metadata": {},
   "outputs": [],
   "source": [
    "hma_basins_lehner2013_l3 = asia_basins_lehner2013_l3[asia_basins_lehner2013_l3.intersects(hma_gtng.union_all())]\n",
    "hma_basins_lehner2013_l4 = asia_basins_lehner2013_l4[asia_basins_lehner2013_l4.intersects(hma_gtng.union_all())]\n",
    "hma_basins_lehner2013_l5 = asia_basins_lehner2013_l5[asia_basins_lehner2013_l5.intersects(hma_gtng.union_all())]\n"
   ]
  },
  {
   "cell_type": "code",
   "execution_count": null,
   "id": "1e95d604",
   "metadata": {},
   "outputs": [],
   "source": [
    "hma_basins_lehner2013_l3.to_file('data/hma-extent/basins/hma_Lehner2013_levels/hma_hybas_as_lev03_v1c.gpkg', driver='GPKG')\n",
    "hma_basins_lehner2013_l4.to_file('data/hma-extent/basins/hma_Lehner2013_levels/hma_hybas_as_lev04_v1c.gpkg', driver='GPKG')\n",
    "hma_basins_lehner2013_l5.to_file('data/hma-extent/basins/hma_Lehner2013_levels/hma_hybas_as_lev05_v1c.gpkg', driver='GPKG')\n",
    "\n"
   ]
  }
 ],
 "metadata": {
  "kernelspec": {
   "display_name": "hma-data",
   "language": "python",
   "name": "python3"
  },
  "language_info": {
   "codemirror_mode": {
    "name": "ipython",
    "version": 3
   },
   "file_extension": ".py",
   "mimetype": "text/x-python",
   "name": "python",
   "nbconvert_exporter": "python",
   "pygments_lexer": "ipython3",
   "version": "3.10.18"
  }
 },
 "nbformat": 4,
 "nbformat_minor": 5
}
