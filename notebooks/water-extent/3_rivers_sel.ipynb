{
 "cells": [
  {
   "cell_type": "markdown",
   "metadata": {},
   "source": [
    "### select rivers in hma"
   ]
  },
  {
   "cell_type": "code",
   "execution_count": null,
   "metadata": {},
   "outputs": [],
   "source": [
    "import numpy as np\n",
    "import geopandas as gpd\n"
   ]
  },
  {
   "cell_type": "markdown",
   "metadata": {},
   "source": [
    "#### Select major rivers in hma from global rivers."
   ]
  },
  {
   "cell_type": "code",
   "execution_count": 35,
   "metadata": {},
   "outputs": [],
   "source": [
    "path_rivers_global = 'data/water-extent/rivers/global_major_rivers.gpkg'\n"
   ]
  },
  {
   "cell_type": "markdown",
   "metadata": {},
   "source": [
    "#### Note:   \n",
    "-- Yarlung Zangbo also know as Brahmaputra;   \n",
    "-- Nu Jiang also know as Salween;   \n",
    "-- Chang Jiang also know as Yangtze River."
   ]
  },
  {
   "cell_type": "code",
   "execution_count": 8,
   "metadata": {},
   "outputs": [
    {
     "name": "stdout",
     "output_type": "stream",
     "text": [
      "(98, 5)\n"
     ]
    },
    {
     "data": {
      "text/html": [
       "<div>\n",
       "<style scoped>\n",
       "    .dataframe tbody tr th:only-of-type {\n",
       "        vertical-align: middle;\n",
       "    }\n",
       "\n",
       "    .dataframe tbody tr th {\n",
       "        vertical-align: top;\n",
       "    }\n",
       "\n",
       "    .dataframe thead th {\n",
       "        text-align: right;\n",
       "    }\n",
       "</style>\n",
       "<table border=\"1\" class=\"dataframe\">\n",
       "  <thead>\n",
       "    <tr style=\"text-align: right;\">\n",
       "      <th></th>\n",
       "      <th>NAME</th>\n",
       "      <th>SYSTEM</th>\n",
       "      <th>MILES</th>\n",
       "      <th>KILOMETERS</th>\n",
       "      <th>geometry</th>\n",
       "    </tr>\n",
       "  </thead>\n",
       "  <tbody>\n",
       "    <tr>\n",
       "      <th>0</th>\n",
       "      <td>Kolyma</td>\n",
       "      <td>None</td>\n",
       "      <td>2551.51838</td>\n",
       "      <td>4106.27900</td>\n",
       "      <td>MULTILINESTRING ((144.84189 61.75915, 144.8257...</td>\n",
       "    </tr>\n",
       "    <tr>\n",
       "      <th>1</th>\n",
       "      <td>Parana</td>\n",
       "      <td>Parana</td>\n",
       "      <td>1616.20622</td>\n",
       "      <td>2601.03698</td>\n",
       "      <td>MULTILINESTRING ((-51.0064 -20.07941, -51.0297...</td>\n",
       "    </tr>\n",
       "    <tr>\n",
       "      <th>2</th>\n",
       "      <td>San Francisco</td>\n",
       "      <td>None</td>\n",
       "      <td>1493.57095</td>\n",
       "      <td>2403.67425</td>\n",
       "      <td>MULTILINESTRING ((-46.43639 -20.25807, -46.498...</td>\n",
       "    </tr>\n",
       "    <tr>\n",
       "      <th>3</th>\n",
       "      <td>Japura</td>\n",
       "      <td>Amazon</td>\n",
       "      <td>1222.80771</td>\n",
       "      <td>1967.92219</td>\n",
       "      <td>MULTILINESTRING ((-76.71056 1.62417, -76.70029...</td>\n",
       "    </tr>\n",
       "    <tr>\n",
       "      <th>4</th>\n",
       "      <td>Putumayo</td>\n",
       "      <td>Amazon</td>\n",
       "      <td>889.91926</td>\n",
       "      <td>1432.18908</td>\n",
       "      <td>MULTILINESTRING ((-76.86806 1.30055, -76.86695...</td>\n",
       "    </tr>\n",
       "  </tbody>\n",
       "</table>\n",
       "</div>"
      ],
      "text/plain": [
       "            NAME  SYSTEM       MILES  KILOMETERS  \\\n",
       "0         Kolyma    None  2551.51838  4106.27900   \n",
       "1         Parana  Parana  1616.20622  2601.03698   \n",
       "2  San Francisco    None  1493.57095  2403.67425   \n",
       "3         Japura  Amazon  1222.80771  1967.92219   \n",
       "4       Putumayo  Amazon   889.91926  1432.18908   \n",
       "\n",
       "                                            geometry  \n",
       "0  MULTILINESTRING ((144.84189 61.75915, 144.8257...  \n",
       "1  MULTILINESTRING ((-51.0064 -20.07941, -51.0297...  \n",
       "2  MULTILINESTRING ((-46.43639 -20.25807, -46.498...  \n",
       "3  MULTILINESTRING ((-76.71056 1.62417, -76.70029...  \n",
       "4  MULTILINESTRING ((-76.86806 1.30055, -76.86695...  "
      ]
     },
     "execution_count": 8,
     "metadata": {},
     "output_type": "execute_result"
    }
   ],
   "source": [
    "### Check data\n",
    "rivers_global = gpd.read_file(path_rivers_global)\n",
    "print(rivers_global.shape)\n",
    "rivers_global.head()\n"
   ]
  },
  {
   "cell_type": "code",
   "execution_count": 31,
   "metadata": {},
   "outputs": [
    {
     "data": {
      "text/plain": [
       "56"
      ]
     },
     "execution_count": 31,
     "metadata": {},
     "output_type": "execute_result"
    }
   ],
   "source": [
    "np.where(rivers_global.NAME=='Ganges')[0].item()\n"
   ]
  },
  {
   "cell_type": "code",
   "execution_count": 33,
   "metadata": {},
   "outputs": [
    {
     "name": "stdout",
     "output_type": "stream",
     "text": [
      "(11, 5)\n"
     ]
    },
    {
     "data": {
      "text/html": [
       "<div>\n",
       "<style scoped>\n",
       "    .dataframe tbody tr th:only-of-type {\n",
       "        vertical-align: middle;\n",
       "    }\n",
       "\n",
       "    .dataframe tbody tr th {\n",
       "        vertical-align: top;\n",
       "    }\n",
       "\n",
       "    .dataframe thead th {\n",
       "        text-align: right;\n",
       "    }\n",
       "</style>\n",
       "<table border=\"1\" class=\"dataframe\">\n",
       "  <thead>\n",
       "    <tr style=\"text-align: right;\">\n",
       "      <th></th>\n",
       "      <th>NAME</th>\n",
       "      <th>SYSTEM</th>\n",
       "      <th>MILES</th>\n",
       "      <th>KILOMETERS</th>\n",
       "      <th>geometry</th>\n",
       "    </tr>\n",
       "  </thead>\n",
       "  <tbody>\n",
       "    <tr>\n",
       "      <th>57</th>\n",
       "      <td>Indus</td>\n",
       "      <td>None</td>\n",
       "      <td>2015.16218</td>\n",
       "      <td>3243.09564</td>\n",
       "      <td>MULTILINESTRING ((67.48645 24.04542, 67.65091 ...</td>\n",
       "    </tr>\n",
       "    <tr>\n",
       "      <th>56</th>\n",
       "      <td>Ganges</td>\n",
       "      <td>None</td>\n",
       "      <td>1481.59615</td>\n",
       "      <td>2384.40264</td>\n",
       "      <td>MULTILINESTRING ((79.87328 30.95868, 79.81163 ...</td>\n",
       "    </tr>\n",
       "    <tr>\n",
       "      <th>55</th>\n",
       "      <td>Yarlung Zangbo</td>\n",
       "      <td>None</td>\n",
       "      <td>1897.09807</td>\n",
       "      <td>3053.08950</td>\n",
       "      <td>MULTILINESTRING ((82.00998 30.48415, 82.24191 ...</td>\n",
       "    </tr>\n",
       "    <tr>\n",
       "      <th>62</th>\n",
       "      <td>Mekong</td>\n",
       "      <td>None</td>\n",
       "      <td>2942.45095</td>\n",
       "      <td>4735.42525</td>\n",
       "      <td>MULTILINESTRING ((93.88553 33.26776, 93.88915 ...</td>\n",
       "    </tr>\n",
       "    <tr>\n",
       "      <th>61</th>\n",
       "      <td>Irrawaddy</td>\n",
       "      <td>None</td>\n",
       "      <td>1297.67231</td>\n",
       "      <td>2088.40532</td>\n",
       "      <td>MULTILINESTRING ((94.98852 16.23617, 95.12437 ...</td>\n",
       "    </tr>\n",
       "  </tbody>\n",
       "</table>\n",
       "</div>"
      ],
      "text/plain": [
       "              NAME SYSTEM       MILES  KILOMETERS  \\\n",
       "57           Indus   None  2015.16218  3243.09564   \n",
       "56          Ganges   None  1481.59615  2384.40264   \n",
       "55  Yarlung Zangbo   None  1897.09807  3053.08950   \n",
       "62          Mekong   None  2942.45095  4735.42525   \n",
       "61       Irrawaddy   None  1297.67231  2088.40532   \n",
       "\n",
       "                                             geometry  \n",
       "57  MULTILINESTRING ((67.48645 24.04542, 67.65091 ...  \n",
       "56  MULTILINESTRING ((79.87328 30.95868, 79.81163 ...  \n",
       "55  MULTILINESTRING ((82.00998 30.48415, 82.24191 ...  \n",
       "62  MULTILINESTRING ((93.88553 33.26776, 93.88915 ...  \n",
       "61  MULTILINESTRING ((94.98852 16.23617, 95.12437 ...  "
      ]
     },
     "execution_count": 33,
     "metadata": {},
     "output_type": "execute_result"
    }
   ],
   "source": [
    "### Rivers in hma\n",
    "rivers_hma = ['Indus', 'Ganges', 'Yarlung Zangbo', 'Mekong', 'Irrawaddy', 'Huang He', \\\n",
    "              'Syr Darya', 'Amu Darya', 'Chang Jiang', 'Xi Jiang', 'Nu Jiang']\n",
    "ids = [np.where(rivers_global.NAME==name)[0].item() for name in rivers_hma]\n",
    "rivers_hma = rivers_global.loc[ids]\n",
    "print(rivers_hma.shape)\n",
    "rivers_hma.head()\n"
   ]
  },
  {
   "cell_type": "code",
   "execution_count": null,
   "metadata": {},
   "outputs": [],
   "source": [
    "# ### Write out\n",
    "# rivers_hma.to_file('data/water-extent/rivers/hma_major_rivers.gpkg', driver='GPKG')"
   ]
  },
  {
   "cell_type": "code",
   "execution_count": null,
   "metadata": {},
   "outputs": [],
   "source": []
  }
 ],
 "metadata": {
  "kernelspec": {
   "display_name": "hma-data",
   "language": "python",
   "name": "python3"
  },
  "language_info": {
   "codemirror_mode": {
    "name": "ipython",
    "version": 3
   },
   "file_extension": ".py",
   "mimetype": "text/x-python",
   "name": "python",
   "nbconvert_exporter": "python",
   "pygments_lexer": "ipython3",
   "version": "3.10.18"
  }
 },
 "nbformat": 4,
 "nbformat_minor": 2
}
